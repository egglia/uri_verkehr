{
 "cells": [
  {
   "cell_type": "code",
   "execution_count": 210,
   "metadata": {
    "ExecuteTime": {
     "end_time": "2023-03-31T14:52:25.559454Z",
     "start_time": "2023-03-31T14:52:25.215148Z"
    }
   },
   "outputs": [],
   "source": [
    "import math\n",
    "import time\n",
    "import numpy as np\n",
    "import json\n",
    "import glob\n",
    "import warnings\n",
    "import requests\n",
    "\n",
    "import matplotlib.pyplot as plt\n",
    "import seaborn as sns\n",
    "\n",
    "import pandas as pd\n",
    "import geopandas as gpd\n",
    "pd.set_option('display.max_columns', None)\n",
    "\n",
    "\n",
    "import datetime\n",
    "\n"
   ]
  },
  {
   "cell_type": "code",
   "execution_count": null,
   "metadata": {
    "collapsed": false
   },
   "outputs": [],
   "source": []
  },
  {
   "attachments": {},
   "cell_type": "markdown",
   "metadata": {},
   "source": [
    "# Import der Daten"
   ]
  },
  {
   "cell_type": "code",
   "execution_count": 211,
   "metadata": {
    "ExecuteTime": {
     "end_time": "2023-03-31T15:45:26.665166Z",
     "start_time": "2023-03-31T15:45:20.349898Z"
    }
   },
   "outputs": [
    {
     "name": "stdout",
     "output_type": "stream",
     "text": [
      "../data/DatenSisag/Verkehrsdaten/Rohdaten Auswertungfiles xls/all\\5401_2022.xlsx\n"
     ]
    }
   ],
   "source": [
    "# import required module\n",
    "import os\n",
    "# assign directory\n",
    "directory = '../data/DatenSisag/Verkehrsdaten/Rohdaten Auswertungfiles xls/all'\n",
    "dflist = {}\n",
    "messstelle = \"\"\n",
    "\n",
    "# iterate over files in\n",
    "# that directory\n",
    "for filename in os.listdir(directory):\n",
    "    f = os.path.join(directory, filename)\n",
    "    # checking if it is a file\n",
    "    if os.path.isfile(f):\n",
    "        print(f)\n",
    "        if filename.startswith(\"ok_\") :\n",
    "            messstelle =  filename[3:7]\n",
    "        else:\n",
    "            messstelle = filename[0:3]\n",
    "        dflist[messstelle]=pd.read_excel(f)\n",
    "        break\n"
   ]
  },
  {
   "cell_type": "code",
   "execution_count": 244,
   "metadata": {
    "collapsed": false
   },
   "outputs": [],
   "source": [
    "df_silenen_amsteg = pd.read_excel('C:/Users/enriq/Desktop/uri_verkehr/data/DatenSisag/Verkehrsdaten/Rohdaten Auswertungfiles xls/2022/7403_2022.xlsx')\n",
    "df_erstfeld_silenen = pd.read_excel('C:/Users/enriq/Desktop/uri_verkehr/data/DatenSisag/Verkehrsdaten/Rohdaten Auswertungfiles xls/2022/7201_2022.xlsx')"
   ]
  },
  {
   "attachments": {},
   "cell_type": "markdown",
   "metadata": {},
   "source": [
    "# Datumszeile erstellen"
   ]
  },
  {
   "cell_type": "code",
   "execution_count": 245,
   "metadata": {},
   "outputs": [
    {
     "data": {
      "text/html": [
       "<div>\n",
       "<style scoped>\n",
       "    .dataframe tbody tr th:only-of-type {\n",
       "        vertical-align: middle;\n",
       "    }\n",
       "\n",
       "    .dataframe tbody tr th {\n",
       "        vertical-align: top;\n",
       "    }\n",
       "\n",
       "    .dataframe thead th {\n",
       "        text-align: right;\n",
       "    }\n",
       "</style>\n",
       "<table border=\"1\" class=\"dataframe\">\n",
       "  <thead>\n",
       "    <tr style=\"text-align: right;\">\n",
       "      <th></th>\n",
       "      <th>Zst</th>\n",
       "      <th>Datum</th>\n",
       "      <th>HHMM</th>\n",
       "      <th>Richtung</th>\n",
       "      <th>-</th>\n",
       "      <th>Klasse</th>\n",
       "      <th>CS 1</th>\n",
       "      <th>CS 2</th>\n",
       "      <th>CS 3</th>\n",
       "      <th>CS 4</th>\n",
       "      <th>CS 5</th>\n",
       "      <th>CS 6</th>\n",
       "      <th>CS 7</th>\n",
       "      <th>CS 8</th>\n",
       "      <th>CS 9</th>\n",
       "      <th>CS10</th>\n",
       "      <th>Day Helper</th>\n",
       "      <th>Month Helper</th>\n",
       "      <th>Querschnitt</th>\n",
       "      <th>Wochenende/Feirtag</th>\n",
       "      <th>Datum und Zeit</th>\n",
       "      <th>Datumszeit</th>\n",
       "    </tr>\n",
       "  </thead>\n",
       "  <tbody>\n",
       "    <tr>\n",
       "      <th>0</th>\n",
       "      <td>7403</td>\n",
       "      <td>2022-02-12</td>\n",
       "      <td>1.00</td>\n",
       "      <td>1</td>\n",
       "      <td>0</td>\n",
       "      <td>1</td>\n",
       "      <td>0</td>\n",
       "      <td>2</td>\n",
       "      <td>1</td>\n",
       "      <td>0</td>\n",
       "      <td>NaN</td>\n",
       "      <td>NaN</td>\n",
       "      <td>NaN</td>\n",
       "      <td>NaN</td>\n",
       "      <td>NaN</td>\n",
       "      <td>NaN</td>\n",
       "      <td>7</td>\n",
       "      <td>2</td>\n",
       "      <td>NaN</td>\n",
       "      <td>x</td>\n",
       "      <td>2022-02-12 1.0</td>\n",
       "      <td>2022-02-12 01:00:00</td>\n",
       "    </tr>\n",
       "    <tr>\n",
       "      <th>1</th>\n",
       "      <td>7403</td>\n",
       "      <td>2022-02-12</td>\n",
       "      <td>1.00</td>\n",
       "      <td>1</td>\n",
       "      <td>0</td>\n",
       "      <td>2</td>\n",
       "      <td>1</td>\n",
       "      <td>0</td>\n",
       "      <td>2</td>\n",
       "      <td>0</td>\n",
       "      <td>0.0</td>\n",
       "      <td>0.0</td>\n",
       "      <td>0.0</td>\n",
       "      <td>0.0</td>\n",
       "      <td>0.0</td>\n",
       "      <td>0.0</td>\n",
       "      <td>7</td>\n",
       "      <td>2</td>\n",
       "      <td>3.0</td>\n",
       "      <td>x</td>\n",
       "      <td>2022-02-12 1.0</td>\n",
       "      <td>2022-02-12 01:00:00</td>\n",
       "    </tr>\n",
       "    <tr>\n",
       "      <th>2</th>\n",
       "      <td>7403</td>\n",
       "      <td>2022-02-12</td>\n",
       "      <td>1.00</td>\n",
       "      <td>2</td>\n",
       "      <td>0</td>\n",
       "      <td>1</td>\n",
       "      <td>0</td>\n",
       "      <td>3</td>\n",
       "      <td>1</td>\n",
       "      <td>0</td>\n",
       "      <td>NaN</td>\n",
       "      <td>NaN</td>\n",
       "      <td>NaN</td>\n",
       "      <td>NaN</td>\n",
       "      <td>NaN</td>\n",
       "      <td>NaN</td>\n",
       "      <td>7</td>\n",
       "      <td>2</td>\n",
       "      <td>NaN</td>\n",
       "      <td>x</td>\n",
       "      <td>2022-02-12 1.0</td>\n",
       "      <td>2022-02-12 01:00:00</td>\n",
       "    </tr>\n",
       "    <tr>\n",
       "      <th>3</th>\n",
       "      <td>7403</td>\n",
       "      <td>2022-02-12</td>\n",
       "      <td>1.00</td>\n",
       "      <td>2</td>\n",
       "      <td>0</td>\n",
       "      <td>2</td>\n",
       "      <td>1</td>\n",
       "      <td>0</td>\n",
       "      <td>3</td>\n",
       "      <td>0</td>\n",
       "      <td>0.0</td>\n",
       "      <td>0.0</td>\n",
       "      <td>0.0</td>\n",
       "      <td>0.0</td>\n",
       "      <td>0.0</td>\n",
       "      <td>0.0</td>\n",
       "      <td>7</td>\n",
       "      <td>2</td>\n",
       "      <td>4.0</td>\n",
       "      <td>x</td>\n",
       "      <td>2022-02-12 1.0</td>\n",
       "      <td>2022-02-12 01:00:00</td>\n",
       "    </tr>\n",
       "    <tr>\n",
       "      <th>4</th>\n",
       "      <td>7403</td>\n",
       "      <td>2022-02-12</td>\n",
       "      <td>2.00</td>\n",
       "      <td>1</td>\n",
       "      <td>0</td>\n",
       "      <td>1</td>\n",
       "      <td>0</td>\n",
       "      <td>3</td>\n",
       "      <td>0</td>\n",
       "      <td>0</td>\n",
       "      <td>NaN</td>\n",
       "      <td>NaN</td>\n",
       "      <td>NaN</td>\n",
       "      <td>NaN</td>\n",
       "      <td>NaN</td>\n",
       "      <td>NaN</td>\n",
       "      <td>7</td>\n",
       "      <td>2</td>\n",
       "      <td>NaN</td>\n",
       "      <td>x</td>\n",
       "      <td>2022-02-12 2.0</td>\n",
       "      <td>2022-02-12 02:00:00</td>\n",
       "    </tr>\n",
       "    <tr>\n",
       "      <th>...</th>\n",
       "      <td>...</td>\n",
       "      <td>...</td>\n",
       "      <td>...</td>\n",
       "      <td>...</td>\n",
       "      <td>...</td>\n",
       "      <td>...</td>\n",
       "      <td>...</td>\n",
       "      <td>...</td>\n",
       "      <td>...</td>\n",
       "      <td>...</td>\n",
       "      <td>...</td>\n",
       "      <td>...</td>\n",
       "      <td>...</td>\n",
       "      <td>...</td>\n",
       "      <td>...</td>\n",
       "      <td>...</td>\n",
       "      <td>...</td>\n",
       "      <td>...</td>\n",
       "      <td>...</td>\n",
       "      <td>...</td>\n",
       "      <td>...</td>\n",
       "      <td>...</td>\n",
       "    </tr>\n",
       "    <tr>\n",
       "      <th>35035</th>\n",
       "      <td>7403</td>\n",
       "      <td>2022-04-30</td>\n",
       "      <td>23.00</td>\n",
       "      <td>2</td>\n",
       "      <td>0</td>\n",
       "      <td>2</td>\n",
       "      <td>2</td>\n",
       "      <td>0</td>\n",
       "      <td>22</td>\n",
       "      <td>0</td>\n",
       "      <td>0.0</td>\n",
       "      <td>0.0</td>\n",
       "      <td>0.0</td>\n",
       "      <td>0.0</td>\n",
       "      <td>0.0</td>\n",
       "      <td>0.0</td>\n",
       "      <td>7</td>\n",
       "      <td>4</td>\n",
       "      <td>24.0</td>\n",
       "      <td>x</td>\n",
       "      <td>2022-04-30 23.0</td>\n",
       "      <td>2022-04-30 23:00:00</td>\n",
       "    </tr>\n",
       "    <tr>\n",
       "      <th>35036</th>\n",
       "      <td>7403</td>\n",
       "      <td>2022-04-30</td>\n",
       "      <td>23.59</td>\n",
       "      <td>1</td>\n",
       "      <td>0</td>\n",
       "      <td>1</td>\n",
       "      <td>0</td>\n",
       "      <td>9</td>\n",
       "      <td>1</td>\n",
       "      <td>0</td>\n",
       "      <td>NaN</td>\n",
       "      <td>NaN</td>\n",
       "      <td>NaN</td>\n",
       "      <td>NaN</td>\n",
       "      <td>NaN</td>\n",
       "      <td>NaN</td>\n",
       "      <td>7</td>\n",
       "      <td>4</td>\n",
       "      <td>NaN</td>\n",
       "      <td>x</td>\n",
       "      <td>2022-04-30 23.59</td>\n",
       "      <td>2022-04-30 23:59:00</td>\n",
       "    </tr>\n",
       "    <tr>\n",
       "      <th>35037</th>\n",
       "      <td>7403</td>\n",
       "      <td>2022-04-30</td>\n",
       "      <td>23.59</td>\n",
       "      <td>1</td>\n",
       "      <td>0</td>\n",
       "      <td>2</td>\n",
       "      <td>1</td>\n",
       "      <td>0</td>\n",
       "      <td>9</td>\n",
       "      <td>0</td>\n",
       "      <td>0.0</td>\n",
       "      <td>0.0</td>\n",
       "      <td>0.0</td>\n",
       "      <td>0.0</td>\n",
       "      <td>0.0</td>\n",
       "      <td>0.0</td>\n",
       "      <td>7</td>\n",
       "      <td>4</td>\n",
       "      <td>10.0</td>\n",
       "      <td>x</td>\n",
       "      <td>2022-04-30 23.59</td>\n",
       "      <td>2022-04-30 23:59:00</td>\n",
       "    </tr>\n",
       "    <tr>\n",
       "      <th>35038</th>\n",
       "      <td>7403</td>\n",
       "      <td>2022-04-30</td>\n",
       "      <td>23.59</td>\n",
       "      <td>2</td>\n",
       "      <td>0</td>\n",
       "      <td>1</td>\n",
       "      <td>0</td>\n",
       "      <td>8</td>\n",
       "      <td>1</td>\n",
       "      <td>0</td>\n",
       "      <td>NaN</td>\n",
       "      <td>NaN</td>\n",
       "      <td>NaN</td>\n",
       "      <td>NaN</td>\n",
       "      <td>NaN</td>\n",
       "      <td>NaN</td>\n",
       "      <td>7</td>\n",
       "      <td>4</td>\n",
       "      <td>NaN</td>\n",
       "      <td>x</td>\n",
       "      <td>2022-04-30 23.59</td>\n",
       "      <td>2022-04-30 23:59:00</td>\n",
       "    </tr>\n",
       "    <tr>\n",
       "      <th>35039</th>\n",
       "      <td>7403</td>\n",
       "      <td>2022-04-30</td>\n",
       "      <td>23.59</td>\n",
       "      <td>2</td>\n",
       "      <td>0</td>\n",
       "      <td>2</td>\n",
       "      <td>1</td>\n",
       "      <td>0</td>\n",
       "      <td>8</td>\n",
       "      <td>0</td>\n",
       "      <td>0.0</td>\n",
       "      <td>0.0</td>\n",
       "      <td>0.0</td>\n",
       "      <td>0.0</td>\n",
       "      <td>0.0</td>\n",
       "      <td>0.0</td>\n",
       "      <td>7</td>\n",
       "      <td>4</td>\n",
       "      <td>9.0</td>\n",
       "      <td>x</td>\n",
       "      <td>2022-04-30 23.59</td>\n",
       "      <td>2022-04-30 23:59:00</td>\n",
       "    </tr>\n",
       "  </tbody>\n",
       "</table>\n",
       "<p>35040 rows × 22 columns</p>\n",
       "</div>"
      ],
      "text/plain": [
       "        Zst      Datum   HHMM  Richtung  -  Klasse  CS 1  CS 2  CS 3  CS 4  \\\n",
       "0      7403 2022-02-12   1.00         1  0       1     0     2     1     0   \n",
       "1      7403 2022-02-12   1.00         1  0       2     1     0     2     0   \n",
       "2      7403 2022-02-12   1.00         2  0       1     0     3     1     0   \n",
       "3      7403 2022-02-12   1.00         2  0       2     1     0     3     0   \n",
       "4      7403 2022-02-12   2.00         1  0       1     0     3     0     0   \n",
       "...     ...        ...    ...       ... ..     ...   ...   ...   ...   ...   \n",
       "35035  7403 2022-04-30  23.00         2  0       2     2     0    22     0   \n",
       "35036  7403 2022-04-30  23.59         1  0       1     0     9     1     0   \n",
       "35037  7403 2022-04-30  23.59         1  0       2     1     0     9     0   \n",
       "35038  7403 2022-04-30  23.59         2  0       1     0     8     1     0   \n",
       "35039  7403 2022-04-30  23.59         2  0       2     1     0     8     0   \n",
       "\n",
       "       CS 5  CS 6  CS 7  CS 8  CS 9  CS10  Day Helper  Month Helper  \\\n",
       "0       NaN   NaN   NaN   NaN   NaN   NaN           7             2   \n",
       "1       0.0   0.0   0.0   0.0   0.0   0.0           7             2   \n",
       "2       NaN   NaN   NaN   NaN   NaN   NaN           7             2   \n",
       "3       0.0   0.0   0.0   0.0   0.0   0.0           7             2   \n",
       "4       NaN   NaN   NaN   NaN   NaN   NaN           7             2   \n",
       "...     ...   ...   ...   ...   ...   ...         ...           ...   \n",
       "35035   0.0   0.0   0.0   0.0   0.0   0.0           7             4   \n",
       "35036   NaN   NaN   NaN   NaN   NaN   NaN           7             4   \n",
       "35037   0.0   0.0   0.0   0.0   0.0   0.0           7             4   \n",
       "35038   NaN   NaN   NaN   NaN   NaN   NaN           7             4   \n",
       "35039   0.0   0.0   0.0   0.0   0.0   0.0           7             4   \n",
       "\n",
       "       Querschnitt Wochenende/Feirtag    Datum und Zeit          Datumszeit  \n",
       "0              NaN                  x    2022-02-12 1.0 2022-02-12 01:00:00  \n",
       "1              3.0                  x    2022-02-12 1.0 2022-02-12 01:00:00  \n",
       "2              NaN                  x    2022-02-12 1.0 2022-02-12 01:00:00  \n",
       "3              4.0                  x    2022-02-12 1.0 2022-02-12 01:00:00  \n",
       "4              NaN                  x    2022-02-12 2.0 2022-02-12 02:00:00  \n",
       "...            ...                ...               ...                 ...  \n",
       "35035         24.0                  x   2022-04-30 23.0 2022-04-30 23:00:00  \n",
       "35036          NaN                  x  2022-04-30 23.59 2022-04-30 23:59:00  \n",
       "35037         10.0                  x  2022-04-30 23.59 2022-04-30 23:59:00  \n",
       "35038          NaN                  x  2022-04-30 23.59 2022-04-30 23:59:00  \n",
       "35039          9.0                  x  2022-04-30 23.59 2022-04-30 23:59:00  \n",
       "\n",
       "[35040 rows x 22 columns]"
      ]
     },
     "execution_count": 245,
     "metadata": {},
     "output_type": "execute_result"
    }
   ],
   "source": [
    "def anpassung_zeit(df):\n",
    "    df.HHMM = df.HHMM / 100\n",
    "    df['HHMM']=df['HHMM'].replace(24.0,23.59)\n",
    "    df.head(100)\n",
    "    df['Datum und Zeit'] = df[\"Datum\"].astype(str)+ ' ' +df.HHMM.astype(str)\n",
    "    df['Datumszeit'] = pd.to_datetime(df['Datum und Zeit'], format='%Y-%m-%d %H.%M')\n",
    "    return df\n",
    "df_erstfeld_silenen = anpassung_zeit(df_erstfeld_silenen)\n",
    "df_silenen_amsteg = anpassung_zeit(df_silenen_amsteg)\n",
    "df_silenen_amsteg"
   ]
  },
  {
   "cell_type": "markdown",
   "metadata": {
    "ExecuteTime": {
     "end_time": "2023-03-31T14:55:03.539636Z",
     "start_time": "2023-03-31T14:55:03.450282Z"
    }
   },
   "source": [
    "df1.HHMM = df1.HHMM / 100\n",
    "df1['HHMM']=df1['HHMM'].replace(24.0,0.0)\n",
    "df1.head(100)\n",
    "df1['Datum und Zeit'] = df1[\"Datum\"].astype(str)+ ' ' +df1.HHMM.astype(str)\n",
    "df1['Datumszeit'] = pd.to_datetime(df1['Datum und Zeit'], format='%Y-%m-%d %H.%M')"
   ]
  },
  {
   "cell_type": "code",
   "execution_count": 246,
   "metadata": {},
   "outputs": [
    {
     "data": {
      "text/html": [
       "<div>\n",
       "<style scoped>\n",
       "    .dataframe tbody tr th:only-of-type {\n",
       "        vertical-align: middle;\n",
       "    }\n",
       "\n",
       "    .dataframe tbody tr th {\n",
       "        vertical-align: top;\n",
       "    }\n",
       "\n",
       "    .dataframe thead th {\n",
       "        text-align: right;\n",
       "    }\n",
       "</style>\n",
       "<table border=\"1\" class=\"dataframe\">\n",
       "  <thead>\n",
       "    <tr style=\"text-align: right;\">\n",
       "      <th></th>\n",
       "      <th>Querschnitt</th>\n",
       "      <th>Datumszeit</th>\n",
       "      <th>Richtung</th>\n",
       "    </tr>\n",
       "  </thead>\n",
       "  <tbody>\n",
       "    <tr>\n",
       "      <th>1</th>\n",
       "      <td>3.0</td>\n",
       "      <td>2022-02-12 01:00:00</td>\n",
       "      <td>1</td>\n",
       "    </tr>\n",
       "    <tr>\n",
       "      <th>3</th>\n",
       "      <td>4.0</td>\n",
       "      <td>2022-02-12 01:00:00</td>\n",
       "      <td>2</td>\n",
       "    </tr>\n",
       "    <tr>\n",
       "      <th>5</th>\n",
       "      <td>3.0</td>\n",
       "      <td>2022-02-12 02:00:00</td>\n",
       "      <td>1</td>\n",
       "    </tr>\n",
       "    <tr>\n",
       "      <th>7</th>\n",
       "      <td>1.0</td>\n",
       "      <td>2022-02-12 02:00:00</td>\n",
       "      <td>2</td>\n",
       "    </tr>\n",
       "    <tr>\n",
       "      <th>9</th>\n",
       "      <td>4.0</td>\n",
       "      <td>2022-02-12 03:00:00</td>\n",
       "      <td>1</td>\n",
       "    </tr>\n",
       "    <tr>\n",
       "      <th>...</th>\n",
       "      <td>...</td>\n",
       "      <td>...</td>\n",
       "      <td>...</td>\n",
       "    </tr>\n",
       "    <tr>\n",
       "      <th>35031</th>\n",
       "      <td>24.0</td>\n",
       "      <td>2022-04-30 22:00:00</td>\n",
       "      <td>2</td>\n",
       "    </tr>\n",
       "    <tr>\n",
       "      <th>35033</th>\n",
       "      <td>10.0</td>\n",
       "      <td>2022-04-30 23:00:00</td>\n",
       "      <td>1</td>\n",
       "    </tr>\n",
       "    <tr>\n",
       "      <th>35035</th>\n",
       "      <td>24.0</td>\n",
       "      <td>2022-04-30 23:00:00</td>\n",
       "      <td>2</td>\n",
       "    </tr>\n",
       "    <tr>\n",
       "      <th>35037</th>\n",
       "      <td>10.0</td>\n",
       "      <td>2022-04-30 23:59:00</td>\n",
       "      <td>1</td>\n",
       "    </tr>\n",
       "    <tr>\n",
       "      <th>35039</th>\n",
       "      <td>9.0</td>\n",
       "      <td>2022-04-30 23:59:00</td>\n",
       "      <td>2</td>\n",
       "    </tr>\n",
       "  </tbody>\n",
       "</table>\n",
       "<p>17520 rows × 3 columns</p>\n",
       "</div>"
      ],
      "text/plain": [
       "       Querschnitt          Datumszeit  Richtung\n",
       "1              3.0 2022-02-12 01:00:00         1\n",
       "3              4.0 2022-02-12 01:00:00         2\n",
       "5              3.0 2022-02-12 02:00:00         1\n",
       "7              1.0 2022-02-12 02:00:00         2\n",
       "9              4.0 2022-02-12 03:00:00         1\n",
       "...            ...                 ...       ...\n",
       "35031         24.0 2022-04-30 22:00:00         2\n",
       "35033         10.0 2022-04-30 23:00:00         1\n",
       "35035         24.0 2022-04-30 23:00:00         2\n",
       "35037         10.0 2022-04-30 23:59:00         1\n",
       "35039          9.0 2022-04-30 23:59:00         2\n",
       "\n",
       "[17520 rows x 3 columns]"
      ]
     },
     "execution_count": 246,
     "metadata": {},
     "output_type": "execute_result"
    }
   ],
   "source": [
    "def delete_rows(df):\n",
    "    df = df[[\"Querschnitt\",\"Datumszeit\", \"Richtung\"]]\n",
    "    df = df[df['Querschnitt'].notna()]\n",
    "    return df\n",
    "\n",
    "df_erstfeld_silenen = delete_rows(df_erstfeld_silenen)\n",
    "df_silenen_amsteg = delete_rows(df_silenen_amsteg)\n",
    "df_silenen_amsteg"
   ]
  },
  {
   "cell_type": "code",
   "execution_count": 247,
   "metadata": {
    "ExecuteTime": {
     "end_time": "2023-03-31T14:55:29.762076Z",
     "start_time": "2023-03-31T14:55:29.711231Z"
    }
   },
   "outputs": [
    {
     "data": {
      "text/html": [
       "<div>\n",
       "<style scoped>\n",
       "    .dataframe tbody tr th:only-of-type {\n",
       "        vertical-align: middle;\n",
       "    }\n",
       "\n",
       "    .dataframe tbody tr th {\n",
       "        vertical-align: top;\n",
       "    }\n",
       "\n",
       "    .dataframe thead th {\n",
       "        text-align: right;\n",
       "    }\n",
       "</style>\n",
       "<table border=\"1\" class=\"dataframe\">\n",
       "  <thead>\n",
       "    <tr style=\"text-align: right;\">\n",
       "      <th></th>\n",
       "      <th>Querschnitt</th>\n",
       "      <th>Datumszeit</th>\n",
       "    </tr>\n",
       "  </thead>\n",
       "  <tbody>\n",
       "    <tr>\n",
       "      <th>1</th>\n",
       "      <td>11.0</td>\n",
       "      <td>2022-01-01 01:00:00</td>\n",
       "    </tr>\n",
       "    <tr>\n",
       "      <th>3</th>\n",
       "      <td>12.0</td>\n",
       "      <td>2022-01-01 01:00:00</td>\n",
       "    </tr>\n",
       "    <tr>\n",
       "      <th>5</th>\n",
       "      <td>11.0</td>\n",
       "      <td>2022-01-01 02:00:00</td>\n",
       "    </tr>\n",
       "    <tr>\n",
       "      <th>7</th>\n",
       "      <td>15.0</td>\n",
       "      <td>2022-01-01 02:00:00</td>\n",
       "    </tr>\n",
       "    <tr>\n",
       "      <th>9</th>\n",
       "      <td>12.0</td>\n",
       "      <td>2022-01-01 03:00:00</td>\n",
       "    </tr>\n",
       "    <tr>\n",
       "      <th>...</th>\n",
       "      <td>...</td>\n",
       "      <td>...</td>\n",
       "    </tr>\n",
       "    <tr>\n",
       "      <th>32287</th>\n",
       "      <td>15.0</td>\n",
       "      <td>2022-12-31 22:00:00</td>\n",
       "    </tr>\n",
       "    <tr>\n",
       "      <th>32289</th>\n",
       "      <td>12.0</td>\n",
       "      <td>2022-12-31 23:00:00</td>\n",
       "    </tr>\n",
       "    <tr>\n",
       "      <th>32291</th>\n",
       "      <td>11.0</td>\n",
       "      <td>2022-12-31 23:00:00</td>\n",
       "    </tr>\n",
       "    <tr>\n",
       "      <th>32293</th>\n",
       "      <td>12.0</td>\n",
       "      <td>2022-12-31 23:59:00</td>\n",
       "    </tr>\n",
       "    <tr>\n",
       "      <th>32295</th>\n",
       "      <td>8.0</td>\n",
       "      <td>2022-12-31 23:59:00</td>\n",
       "    </tr>\n",
       "  </tbody>\n",
       "</table>\n",
       "<p>16148 rows × 2 columns</p>\n",
       "</div>"
      ],
      "text/plain": [
       "       Querschnitt          Datumszeit\n",
       "1             11.0 2022-01-01 01:00:00\n",
       "3             12.0 2022-01-01 01:00:00\n",
       "5             11.0 2022-01-01 02:00:00\n",
       "7             15.0 2022-01-01 02:00:00\n",
       "9             12.0 2022-01-01 03:00:00\n",
       "...            ...                 ...\n",
       "32287         15.0 2022-12-31 22:00:00\n",
       "32289         12.0 2022-12-31 23:00:00\n",
       "32291         11.0 2022-12-31 23:00:00\n",
       "32293         12.0 2022-12-31 23:59:00\n",
       "32295          8.0 2022-12-31 23:59:00\n",
       "\n",
       "[16148 rows x 2 columns]"
      ]
     },
     "execution_count": 247,
     "metadata": {},
     "output_type": "execute_result"
    }
   ],
   "source": [
    "df_erstfeld_silenen = df_erstfeld_silenen[[\"Querschnitt\",\"Datumszeit\"]]\n",
    "df_erstfeld_silenen = df_erstfeld_silenen[df_erstfeld_silenen['Querschnitt'].notna()]\n",
    "\n",
    "df_silenen_amsteg = df_silenen_amsteg[[\"Querschnitt\",\"Datumszeit\"]]\n",
    "df_silenen_amsteg = df_silenen_amsteg[df_silenen_amsteg['Querschnitt'].notna()]\n",
    "\n",
    "df_erstfeld_silenen"
   ]
  },
  {
   "cell_type": "code",
   "execution_count": 249,
   "metadata": {},
   "outputs": [
    {
     "ename": "AttributeError",
     "evalue": "Can only use .dt accessor with datetimelike values",
     "output_type": "error",
     "traceback": [
      "\u001b[1;31m---------------------------------------------------------------------------\u001b[0m",
      "\u001b[1;31mAttributeError\u001b[0m                            Traceback (most recent call last)",
      "Cell \u001b[1;32mIn[249], line 6\u001b[0m\n\u001b[0;32m      3\u001b[0m     df \u001b[39m=\u001b[39m df\u001b[39m.\u001b[39mto_frame(name\u001b[39m=\u001b[39m\u001b[39m'\u001b[39m\u001b[39mQuerschnitt\u001b[39m\u001b[39m'\u001b[39m)\u001b[39m.\u001b[39mreset_index()\n\u001b[0;32m      4\u001b[0m     \u001b[39mreturn\u001b[39;00m df\n\u001b[1;32m----> 6\u001b[0m df_erstfeld_silenen \u001b[39m=\u001b[39m aufsummieren(df_erstfeld_silenen)\n\u001b[0;32m      7\u001b[0m df_silenen_amsteg \u001b[39m=\u001b[39m aufsummieren(df_silenen_amsteg)\n\u001b[0;32m      8\u001b[0m df_silenen_amsteg\n",
      "Cell \u001b[1;32mIn[249], line 2\u001b[0m, in \u001b[0;36maufsummieren\u001b[1;34m(df)\u001b[0m\n\u001b[0;32m      1\u001b[0m \u001b[39mdef\u001b[39;00m \u001b[39maufsummieren\u001b[39m(df):\n\u001b[1;32m----> 2\u001b[0m     df \u001b[39m=\u001b[39m df\u001b[39m.\u001b[39mgroupby(df[\u001b[39m'\u001b[39;49m\u001b[39mDatumszeit\u001b[39;49m\u001b[39m'\u001b[39;49m]\u001b[39m.\u001b[39;49mdt\u001b[39m.\u001b[39mdate)[\u001b[39m'\u001b[39m\u001b[39mQuerschnitt\u001b[39m\u001b[39m'\u001b[39m]\u001b[39m.\u001b[39msum()\n\u001b[0;32m      3\u001b[0m     df \u001b[39m=\u001b[39m df\u001b[39m.\u001b[39mto_frame(name\u001b[39m=\u001b[39m\u001b[39m'\u001b[39m\u001b[39mQuerschnitt\u001b[39m\u001b[39m'\u001b[39m)\u001b[39m.\u001b[39mreset_index()\n\u001b[0;32m      4\u001b[0m     \u001b[39mreturn\u001b[39;00m df\n",
      "File \u001b[1;32m~\\AppData\\Roaming\\Python\\Python39\\site-packages\\pandas\\core\\generic.py:5902\u001b[0m, in \u001b[0;36mNDFrame.__getattr__\u001b[1;34m(self, name)\u001b[0m\n\u001b[0;32m   5895\u001b[0m \u001b[39mif\u001b[39;00m (\n\u001b[0;32m   5896\u001b[0m     name \u001b[39mnot\u001b[39;00m \u001b[39min\u001b[39;00m \u001b[39mself\u001b[39m\u001b[39m.\u001b[39m_internal_names_set\n\u001b[0;32m   5897\u001b[0m     \u001b[39mand\u001b[39;00m name \u001b[39mnot\u001b[39;00m \u001b[39min\u001b[39;00m \u001b[39mself\u001b[39m\u001b[39m.\u001b[39m_metadata\n\u001b[0;32m   5898\u001b[0m     \u001b[39mand\u001b[39;00m name \u001b[39mnot\u001b[39;00m \u001b[39min\u001b[39;00m \u001b[39mself\u001b[39m\u001b[39m.\u001b[39m_accessors\n\u001b[0;32m   5899\u001b[0m     \u001b[39mand\u001b[39;00m \u001b[39mself\u001b[39m\u001b[39m.\u001b[39m_info_axis\u001b[39m.\u001b[39m_can_hold_identifiers_and_holds_name(name)\n\u001b[0;32m   5900\u001b[0m ):\n\u001b[0;32m   5901\u001b[0m     \u001b[39mreturn\u001b[39;00m \u001b[39mself\u001b[39m[name]\n\u001b[1;32m-> 5902\u001b[0m \u001b[39mreturn\u001b[39;00m \u001b[39mobject\u001b[39;49m\u001b[39m.\u001b[39;49m\u001b[39m__getattribute__\u001b[39;49m(\u001b[39mself\u001b[39;49m, name)\n",
      "File \u001b[1;32m~\\AppData\\Roaming\\Python\\Python39\\site-packages\\pandas\\core\\accessor.py:182\u001b[0m, in \u001b[0;36mCachedAccessor.__get__\u001b[1;34m(self, obj, cls)\u001b[0m\n\u001b[0;32m    179\u001b[0m \u001b[39mif\u001b[39;00m obj \u001b[39mis\u001b[39;00m \u001b[39mNone\u001b[39;00m:\n\u001b[0;32m    180\u001b[0m     \u001b[39m# we're accessing the attribute of the class, i.e., Dataset.geo\u001b[39;00m\n\u001b[0;32m    181\u001b[0m     \u001b[39mreturn\u001b[39;00m \u001b[39mself\u001b[39m\u001b[39m.\u001b[39m_accessor\n\u001b[1;32m--> 182\u001b[0m accessor_obj \u001b[39m=\u001b[39m \u001b[39mself\u001b[39;49m\u001b[39m.\u001b[39;49m_accessor(obj)\n\u001b[0;32m    183\u001b[0m \u001b[39m# Replace the property with the accessor object. Inspired by:\u001b[39;00m\n\u001b[0;32m    184\u001b[0m \u001b[39m# https://www.pydanny.com/cached-property.html\u001b[39;00m\n\u001b[0;32m    185\u001b[0m \u001b[39m# We need to use object.__setattr__ because we overwrite __setattr__ on\u001b[39;00m\n\u001b[0;32m    186\u001b[0m \u001b[39m# NDFrame\u001b[39;00m\n\u001b[0;32m    187\u001b[0m \u001b[39mobject\u001b[39m\u001b[39m.\u001b[39m\u001b[39m__setattr__\u001b[39m(obj, \u001b[39mself\u001b[39m\u001b[39m.\u001b[39m_name, accessor_obj)\n",
      "File \u001b[1;32m~\\AppData\\Roaming\\Python\\Python39\\site-packages\\pandas\\core\\indexes\\accessors.py:512\u001b[0m, in \u001b[0;36mCombinedDatetimelikeProperties.__new__\u001b[1;34m(cls, data)\u001b[0m\n\u001b[0;32m    509\u001b[0m \u001b[39melif\u001b[39;00m is_period_dtype(data\u001b[39m.\u001b[39mdtype):\n\u001b[0;32m    510\u001b[0m     \u001b[39mreturn\u001b[39;00m PeriodProperties(data, orig)\n\u001b[1;32m--> 512\u001b[0m \u001b[39mraise\u001b[39;00m \u001b[39mAttributeError\u001b[39;00m(\u001b[39m\"\u001b[39m\u001b[39mCan only use .dt accessor with datetimelike values\u001b[39m\u001b[39m\"\u001b[39m)\n",
      "\u001b[1;31mAttributeError\u001b[0m: Can only use .dt accessor with datetimelike values"
     ]
    }
   ],
   "source": [
    "def aufsummieren(df):\n",
    "    df = df.groupby(df['Datumszeit'].dt.date)['Querschnitt'].sum()\n",
    "    df = df.to_frame(name='Querschnitt').reset_index()\n",
    "    return df\n",
    "\n",
    "df_erstfeld_silenen = aufsummieren(df_erstfeld_silenen)\n",
    "df_silenen_amsteg = aufsummieren(df_silenen_amsteg)"
   ]
  },
  {
   "cell_type": "code",
   "execution_count": 254,
   "metadata": {},
   "outputs": [],
   "source": [
    "df = df_erstfeld_silenen.merge(df_silenen_amsteg, left_on='Datumszeit', right_on='Datumszeit')"
   ]
  },
  {
   "cell_type": "code",
   "execution_count": 255,
   "metadata": {},
   "outputs": [
    {
     "data": {
      "text/html": [
       "<div>\n",
       "<style scoped>\n",
       "    .dataframe tbody tr th:only-of-type {\n",
       "        vertical-align: middle;\n",
       "    }\n",
       "\n",
       "    .dataframe tbody tr th {\n",
       "        vertical-align: top;\n",
       "    }\n",
       "\n",
       "    .dataframe thead th {\n",
       "        text-align: right;\n",
       "    }\n",
       "</style>\n",
       "<table border=\"1\" class=\"dataframe\">\n",
       "  <thead>\n",
       "    <tr style=\"text-align: right;\">\n",
       "      <th></th>\n",
       "      <th>Datumszeit</th>\n",
       "      <th>Querschnitt_x</th>\n",
       "      <th>Querschnitt_y</th>\n",
       "    </tr>\n",
       "  </thead>\n",
       "  <tbody>\n",
       "    <tr>\n",
       "      <th>0</th>\n",
       "      <td>2022-01-01</td>\n",
       "      <td>1434.0</td>\n",
       "      <td>1067.0</td>\n",
       "    </tr>\n",
       "    <tr>\n",
       "      <th>1</th>\n",
       "      <td>2022-01-02</td>\n",
       "      <td>1524.0</td>\n",
       "      <td>1139.0</td>\n",
       "    </tr>\n",
       "    <tr>\n",
       "      <th>2</th>\n",
       "      <td>2022-01-03</td>\n",
       "      <td>2285.0</td>\n",
       "      <td>1279.0</td>\n",
       "    </tr>\n",
       "    <tr>\n",
       "      <th>3</th>\n",
       "      <td>2022-01-04</td>\n",
       "      <td>2238.0</td>\n",
       "      <td>1284.0</td>\n",
       "    </tr>\n",
       "    <tr>\n",
       "      <th>4</th>\n",
       "      <td>2022-01-05</td>\n",
       "      <td>2176.0</td>\n",
       "      <td>1369.0</td>\n",
       "    </tr>\n",
       "    <tr>\n",
       "      <th>...</th>\n",
       "      <td>...</td>\n",
       "      <td>...</td>\n",
       "      <td>...</td>\n",
       "    </tr>\n",
       "    <tr>\n",
       "      <th>332</th>\n",
       "      <td>2022-12-27</td>\n",
       "      <td>2347.0</td>\n",
       "      <td>2594.0</td>\n",
       "    </tr>\n",
       "    <tr>\n",
       "      <th>333</th>\n",
       "      <td>2022-12-28</td>\n",
       "      <td>2270.0</td>\n",
       "      <td>1377.0</td>\n",
       "    </tr>\n",
       "    <tr>\n",
       "      <th>334</th>\n",
       "      <td>2022-12-29</td>\n",
       "      <td>2253.0</td>\n",
       "      <td>1325.0</td>\n",
       "    </tr>\n",
       "    <tr>\n",
       "      <th>335</th>\n",
       "      <td>2022-12-30</td>\n",
       "      <td>2374.0</td>\n",
       "      <td>1416.0</td>\n",
       "    </tr>\n",
       "    <tr>\n",
       "      <th>336</th>\n",
       "      <td>2022-12-31</td>\n",
       "      <td>1872.0</td>\n",
       "      <td>1149.0</td>\n",
       "    </tr>\n",
       "  </tbody>\n",
       "</table>\n",
       "<p>337 rows × 3 columns</p>\n",
       "</div>"
      ],
      "text/plain": [
       "     Datumszeit  Querschnitt_x  Querschnitt_y\n",
       "0    2022-01-01         1434.0         1067.0\n",
       "1    2022-01-02         1524.0         1139.0\n",
       "2    2022-01-03         2285.0         1279.0\n",
       "3    2022-01-04         2238.0         1284.0\n",
       "4    2022-01-05         2176.0         1369.0\n",
       "..          ...            ...            ...\n",
       "332  2022-12-27         2347.0         2594.0\n",
       "333  2022-12-28         2270.0         1377.0\n",
       "334  2022-12-29         2253.0         1325.0\n",
       "335  2022-12-30         2374.0         1416.0\n",
       "336  2022-12-31         1872.0         1149.0\n",
       "\n",
       "[337 rows x 3 columns]"
      ]
     },
     "execution_count": 255,
     "metadata": {},
     "output_type": "execute_result"
    }
   ],
   "source": [
    "df"
   ]
  },
  {
   "cell_type": "code",
   "execution_count": null,
   "metadata": {},
   "outputs": [
    {
     "data": {
      "image/png": "[encoded data removed]",
      "text/plain": [
       "<Figure size 640x480 with 1 Axes>"
      ]
     },
     "metadata": {},
     "output_type": "display_data"
    }
   ],
   "source": [
    "import matplotlib.pyplot as plt\n",
    "from data_formatting import Data\n",
    "import uuid\n",
    "\n",
    "device_id = str(uuid.getnode())\n",
    "if device_id == \"101707883750031\":  # Julian\n",
    "    local_path = 'C://Users//taseehol//PycharmProjects//uri_verkehr//data//DatenSisag//Verkehrsdaten//Rohdaten Auswertungfiles xls//2022'\n",
    "else:  # somebody else\n",
    "    local_path = 'C://Users//enriq//Desktop//uri_verkehr//data//DatenSisag//Verkehrsdaten//Rohdaten Auswertungfiles xls//2022'\n",
    "\n",
    "csvs = ['6004_2022.xlsx']\n",
    "\n",
    "fig, ax = plt.subplots()\n",
    "\n",
    "plot_data = Data(csvs, local_path)\n",
    "ax.plot(plot_data.datetimes[0], plot_data.dataframes[0]['Querschnitt'], label='6004_2022')\n",
    "plt.show()"
   ]
  },
  {
   "cell_type": "code",
   "execution_count": 235,
   "metadata": {},
   "outputs": [
    {
     "data": {
      "text/html": [
       "<div>\n",
       "<style scoped>\n",
       "    .dataframe tbody tr th:only-of-type {\n",
       "        vertical-align: middle;\n",
       "    }\n",
       "\n",
       "    .dataframe tbody tr th {\n",
       "        vertical-align: top;\n",
       "    }\n",
       "\n",
       "    .dataframe thead th {\n",
       "        text-align: right;\n",
       "    }\n",
       "</style>\n",
       "<table border=\"1\" class=\"dataframe\">\n",
       "  <thead>\n",
       "    <tr style=\"text-align: right;\">\n",
       "      <th></th>\n",
       "      <th>Querschnitt_x</th>\n",
       "      <th>Datumszeit</th>\n",
       "      <th>Richtung_x</th>\n",
       "      <th>Querschnitt_y</th>\n",
       "      <th>Richtung_y</th>\n",
       "    </tr>\n",
       "  </thead>\n",
       "  <tbody>\n",
       "    <tr>\n",
       "      <th>0</th>\n",
       "      <td>11.0</td>\n",
       "      <td>2022-01-01 01:00:00</td>\n",
       "      <td>1</td>\n",
       "      <td>4.0</td>\n",
       "      <td>1</td>\n",
       "    </tr>\n",
       "    <tr>\n",
       "      <th>1</th>\n",
       "      <td>11.0</td>\n",
       "      <td>2022-01-01 01:00:00</td>\n",
       "      <td>1</td>\n",
       "      <td>3.0</td>\n",
       "      <td>2</td>\n",
       "    </tr>\n",
       "    <tr>\n",
       "      <th>2</th>\n",
       "      <td>12.0</td>\n",
       "      <td>2022-01-01 01:00:00</td>\n",
       "      <td>2</td>\n",
       "      <td>4.0</td>\n",
       "      <td>1</td>\n",
       "    </tr>\n",
       "    <tr>\n",
       "      <th>3</th>\n",
       "      <td>12.0</td>\n",
       "      <td>2022-01-01 01:00:00</td>\n",
       "      <td>2</td>\n",
       "      <td>3.0</td>\n",
       "      <td>2</td>\n",
       "    </tr>\n",
       "    <tr>\n",
       "      <th>4</th>\n",
       "      <td>11.0</td>\n",
       "      <td>2022-01-01 02:00:00</td>\n",
       "      <td>1</td>\n",
       "      <td>11.0</td>\n",
       "      <td>1</td>\n",
       "    </tr>\n",
       "    <tr>\n",
       "      <th>...</th>\n",
       "      <td>...</td>\n",
       "      <td>...</td>\n",
       "      <td>...</td>\n",
       "      <td>...</td>\n",
       "      <td>...</td>\n",
       "    </tr>\n",
       "    <tr>\n",
       "      <th>32295</th>\n",
       "      <td>11.0</td>\n",
       "      <td>2022-12-31 23:00:00</td>\n",
       "      <td>2</td>\n",
       "      <td>4.0</td>\n",
       "      <td>2</td>\n",
       "    </tr>\n",
       "    <tr>\n",
       "      <th>32296</th>\n",
       "      <td>12.0</td>\n",
       "      <td>2022-12-31 23:59:00</td>\n",
       "      <td>1</td>\n",
       "      <td>3.0</td>\n",
       "      <td>1</td>\n",
       "    </tr>\n",
       "    <tr>\n",
       "      <th>32297</th>\n",
       "      <td>12.0</td>\n",
       "      <td>2022-12-31 23:59:00</td>\n",
       "      <td>1</td>\n",
       "      <td>3.0</td>\n",
       "      <td>2</td>\n",
       "    </tr>\n",
       "    <tr>\n",
       "      <th>32298</th>\n",
       "      <td>8.0</td>\n",
       "      <td>2022-12-31 23:59:00</td>\n",
       "      <td>2</td>\n",
       "      <td>3.0</td>\n",
       "      <td>1</td>\n",
       "    </tr>\n",
       "    <tr>\n",
       "      <th>32299</th>\n",
       "      <td>8.0</td>\n",
       "      <td>2022-12-31 23:59:00</td>\n",
       "      <td>2</td>\n",
       "      <td>3.0</td>\n",
       "      <td>2</td>\n",
       "    </tr>\n",
       "  </tbody>\n",
       "</table>\n",
       "<p>32300 rows × 5 columns</p>\n",
       "</div>"
      ],
      "text/plain": [
       "       Querschnitt_x          Datumszeit  Richtung_x  Querschnitt_y  \\\n",
       "0               11.0 2022-01-01 01:00:00           1            4.0   \n",
       "1               11.0 2022-01-01 01:00:00           1            3.0   \n",
       "2               12.0 2022-01-01 01:00:00           2            4.0   \n",
       "3               12.0 2022-01-01 01:00:00           2            3.0   \n",
       "4               11.0 2022-01-01 02:00:00           1           11.0   \n",
       "...              ...                 ...         ...            ...   \n",
       "32295           11.0 2022-12-31 23:00:00           2            4.0   \n",
       "32296           12.0 2022-12-31 23:59:00           1            3.0   \n",
       "32297           12.0 2022-12-31 23:59:00           1            3.0   \n",
       "32298            8.0 2022-12-31 23:59:00           2            3.0   \n",
       "32299            8.0 2022-12-31 23:59:00           2            3.0   \n",
       "\n",
       "       Richtung_y  \n",
       "0               1  \n",
       "1               2  \n",
       "2               1  \n",
       "3               2  \n",
       "4               1  \n",
       "...           ...  \n",
       "32295           2  \n",
       "32296           1  \n",
       "32297           2  \n",
       "32298           1  \n",
       "32299           2  \n",
       "\n",
       "[32300 rows x 5 columns]"
      ]
     },
     "execution_count": 235,
     "metadata": {},
     "output_type": "execute_result"
    }
   ],
   "source": [
    "df"
   ]
  },
  {
   "cell_type": "code",
   "execution_count": 251,
   "metadata": {},
   "outputs": [
    {
     "data": {
      "application/vnd.plotly.v1+json": {
       "config": {
        "plotlyServerURL": "https://plot.ly"
       },
       "data": [
        {
         "hovertemplate": "Datumszeit=%{x}<br>Querschnitt=%{y}<extra></extra>",
         "legendgroup": "",
         "line": {
          "color": "#636efa",
          "dash": "solid"
         },
         "marker": {
          "symbol": "circle"
         },
         "mode": "lines",
         "name": "",
         "orientation": "v",
         "showlegend": false,
         "type": "scatter",
         "x": [
          "2022-01-01",
          "2022-01-02",
          "2022-01-03",
          "2022-01-04",
          "2022-01-05",
          "2022-01-06",
          "2022-01-07",
          "2022-01-08",
          "2022-01-09",
          "2022-01-10",
          "2022-01-11",
          "2022-01-12",
          "2022-01-13",
          "2022-01-14",
          "2022-01-15",
          "2022-01-16",
          "2022-01-17",
          "2022-01-18",
          "2022-01-19",
          "2022-01-20",
          "2022-01-21",
          "2022-01-22",
          "2022-01-23",
          "2022-01-24",
          "2022-01-25",
          "2022-01-26",
          "2022-01-27",
          "2022-01-28",
          "2022-01-29",
          "2022-01-30",
          "2022-01-31",
          "2022-02-01",
          "2022-02-02",
          "2022-02-03",
          "2022-02-04",
          "2022-02-05",
          "2022-02-06",
          "2022-02-07",
          "2022-02-08",
          "2022-02-09",
          "2022-02-10",
          "2022-02-11",
          "2022-02-12",
          "2022-02-13",
          "2022-02-14",
          "2022-02-15",
          "2022-02-16",
          "2022-02-17",
          "2022-02-18",
          "2022-02-19",
          "2022-02-20",
          "2022-02-21",
          "2022-02-22",
          "2022-02-23",
          "2022-02-24",
          "2022-02-25",
          "2022-02-26",
          "2022-02-27",
          "2022-02-28",
          "2022-03-01",
          "2022-03-02",
          "2022-03-03",
          "2022-03-04",
          "2022-03-05",
          "2022-03-06",
          "2022-03-07",
          "2022-03-08",
          "2022-03-09",
          "2022-03-10",
          "2022-03-11",
          "2022-03-12",
          "2022-03-13",
          "2022-03-14",
          "2022-03-15",
          "2022-03-16",
          "2022-03-17",
          "2022-03-18",
          "2022-03-19",
          "2022-03-20",
          "2022-03-21",
          "2022-03-22",
          "2022-03-23",
          "2022-03-24",
          "2022-03-25",
          "2022-03-26",
          "2022-03-27",
          "2022-03-28",
          "2022-03-29",
          "2022-03-30",
          "2022-03-31",
          "2022-04-01",
          "2022-04-02",
          "2022-04-03",
          "2022-04-04",
          "2022-04-05",
          "2022-04-06",
          "2022-04-07",
          "2022-04-08",
          "2022-04-09",
          "2022-04-10",
          "2022-04-11",
          "2022-04-12",
          "2022-04-13",
          "2022-04-14",
          "2022-04-15",
          "2022-04-16",
          "2022-04-17",
          "2022-04-18",
          "2022-04-19",
          "2022-04-20",
          "2022-04-21",
          "2022-04-22",
          "2022-04-23",
          "2022-04-24",
          "2022-04-25",
          "2022-04-26",
          "2022-04-27",
          "2022-04-28",
          "2022-04-29",
          "2022-04-30",
          "2022-05-01",
          "2022-05-02",
          "2022-05-03",
          "2022-05-04",
          "2022-05-05",
          "2022-05-06",
          "2022-05-07",
          "2022-05-08",
          "2022-05-09",
          "2022-05-10",
          "2022-05-11",
          "2022-05-12",
          "2022-05-13",
          "2022-05-14",
          "2022-05-15",
          "2022-05-16",
          "2022-05-17",
          "2022-05-18",
          "2022-05-19",
          "2022-05-20",
          "2022-05-21",
          "2022-05-22",
          "2022-05-23",
          "2022-05-24",
          "2022-06-01",
          "2022-06-02",
          "2022-06-03",
          "2022-06-04",
          "2022-06-05",
          "2022-06-06",
          "2022-06-07",
          "2022-06-08",
          "2022-06-09",
          "2022-06-10",
          "2022-06-11",
          "2022-06-12",
          "2022-06-13",
          "2022-06-14",
          "2022-06-15",
          "2022-06-16",
          "2022-06-17",
          "2022-06-18",
          "2022-06-19",
          "2022-06-20",
          "2022-06-21",
          "2022-06-22",
          "2022-06-23",
          "2022-06-24",
          "2022-06-25",
          "2022-06-26",
          "2022-06-27",
          "2022-06-28",
          "2022-06-29",
          "2022-06-30",
          "2022-07-01",
          "2022-07-02",
          "2022-07-03",
          "2022-07-04",
          "2022-07-05",
          "2022-07-06",
          "2022-07-07",
          "2022-07-08",
          "2022-07-09",
          "2022-07-10",
          "2022-07-11",
          "2022-07-12",
          "2022-07-13",
          "2022-07-14",
          "2022-07-15",
          "2022-07-16",
          "2022-07-17",
          "2022-07-18",
          "2022-07-19",
          "2022-07-20",
          "2022-07-21",
          "2022-07-22",
          "2022-07-23",
          "2022-07-24",
          "2022-07-25",
          "2022-07-26",
          "2022-07-27",
          "2022-07-28",
          "2022-07-29",
          "2022-07-30",
          "2022-07-31",
          "2022-08-22",
          "2022-08-23",
          "2022-08-24",
          "2022-08-25",
          "2022-08-26",
          "2022-08-27",
          "2022-08-28",
          "2022-08-29",
          "2022-08-30",
          "2022-08-31",
          "2022-09-01",
          "2022-09-02",
          "2022-09-03",
          "2022-09-04",
          "2022-09-05",
          "2022-09-06",
          "2022-09-07",
          "2022-09-08",
          "2022-09-09",
          "2022-09-10",
          "2022-09-11",
          "2022-09-12",
          "2022-09-13",
          "2022-09-14",
          "2022-09-15",
          "2022-09-16",
          "2022-09-17",
          "2022-09-18",
          "2022-09-19",
          "2022-09-20",
          "2022-09-21",
          "2022-09-22",
          "2022-09-23",
          "2022-09-24",
          "2022-09-25",
          "2022-09-26",
          "2022-09-27",
          "2022-09-28",
          "2022-09-29",
          "2022-09-30",
          "2022-10-01",
          "2022-10-02",
          "2022-10-03",
          "2022-10-04",
          "2022-10-05",
          "2022-10-06",
          "2022-10-07",
          "2022-10-08",
          "2022-10-09",
          "2022-10-10",
          "2022-10-11",
          "2022-10-12",
          "2022-10-13",
          "2022-10-14",
          "2022-10-15",
          "2022-10-16",
          "2022-10-17",
          "2022-10-18",
          "2022-10-19",
          "2022-10-20",
          "2022-10-21",
          "2022-10-22",
          "2022-10-23",
          "2022-10-24",
          "2022-10-25",
          "2022-10-26",
          "2022-10-27",
          "2022-10-28",
          "2022-10-29",
          "2022-10-30",
          "2022-10-31",
          "2022-11-01",
          "2022-11-02",
          "2022-11-03",
          "2022-11-04",
          "2022-11-05",
          "2022-11-06",
          "2022-11-07",
          "2022-11-08",
          "2022-11-09",
          "2022-11-10",
          "2022-11-11",
          "2022-11-12",
          "2022-11-13",
          "2022-11-14",
          "2022-11-15",
          "2022-11-16",
          "2022-11-17",
          "2022-11-18",
          "2022-11-19",
          "2022-11-20",
          "2022-11-21",
          "2022-11-22",
          "2022-11-23",
          "2022-11-24",
          "2022-11-25",
          "2022-11-26",
          "2022-11-27",
          "2022-11-28",
          "2022-11-29",
          "2022-11-30",
          "2022-12-01",
          "2022-12-02",
          "2022-12-03",
          "2022-12-04",
          "2022-12-05",
          "2022-12-06",
          "2022-12-07",
          "2022-12-08",
          "2022-12-09",
          "2022-12-10",
          "2022-12-11",
          "2022-12-12",
          "2022-12-13",
          "2022-12-14",
          "2022-12-15",
          "2022-12-16",
          "2022-12-17",
          "2022-12-18",
          "2022-12-19",
          "2022-12-20",
          "2022-12-21",
          "2022-12-22",
          "2022-12-23",
          "2022-12-24",
          "2022-12-25",
          "2022-12-26",
          "2022-12-27",
          "2022-12-28",
          "2022-12-29",
          "2022-12-30",
          "2022-12-31"
         ],
         "xaxis": "x",
         "y": [
          1434,
          1524,
          2285,
          2238,
          2176,
          1562,
          2483,
          1739,
          1205,
          2314,
          2466,
          2442,
          2535,
          2655,
          2020,
          1504,
          2324,
          2541,
          2628,
          2457,
          2740,
          1953,
          1428,
          2509,
          2550,
          2727,
          2604,
          2620,
          2133,
          1378,
          2399,
          2495,
          2505,
          2762,
          2789,
          2165,
          1509,
          2516,
          2764,
          2760,
          2720,
          2689,
          2146,
          1664,
          2568,
          2543,
          2540,
          2654,
          2911,
          2233,
          1657,
          2469,
          2714,
          2785,
          2361,
          2964,
          2125,
          1741,
          2105,
          2402,
          2518,
          2645,
          2688,
          2152,
          1646,
          2559,
          2666,
          2644,
          2666,
          2686,
          2072,
          1459,
          2509,
          2484,
          2502,
          2608,
          2727,
          1863,
          1525,
          2539,
          2577,
          2705,
          2761,
          3013,
          2233,
          1728,
          2715,
          2781,
          2805,
          2732,
          2701,
          2020,
          1426,
          2698,
          2672,
          2884,
          2739,
          3944,
          4582,
          1947,
          2621,
          2925,
          4145,
          7567,
          8119,
          2549,
          1988,
          2278,
          3287,
          3102,
          3057,
          3201,
          2457,
          1535,
          3765,
          2815,
          2995,
          3001,
          3474,
          2432,
          1796,
          2565,
          2434,
          1314,
          1396,
          1468,
          1167,
          1007,
          1354,
          1613,
          1555,
          1564,
          1445,
          1475,
          464,
          1466,
          1520,
          1257,
          1285,
          1474,
          1198,
          1014,
          1188,
          1081,
          1475,
          1582,
          1664,
          1539,
          1007,
          1446,
          1503,
          1498,
          1422,
          1802,
          1878,
          1900,
          202,
          0,
          0,
          0,
          0,
          0,
          0,
          0,
          0,
          0,
          0,
          0,
          0,
          0,
          0,
          0,
          0,
          0,
          0,
          0,
          0,
          0,
          0,
          0,
          0,
          0,
          0,
          0,
          0,
          1089,
          1661,
          1628,
          1729,
          1707,
          1819,
          1479,
          1410,
          2957,
          1615,
          4578,
          5917,
          4633,
          5543,
          3355,
          3753,
          3875,
          4280,
          7904,
          4508,
          1928,
          3783,
          3896,
          3974,
          3837,
          3380,
          2917,
          4142,
          3684,
          3152,
          3598,
          3907,
          4648,
          3402,
          5380,
          4113,
          3790,
          3517,
          4783,
          4620,
          3170,
          4146,
          3781,
          3534,
          3399,
          3652,
          3773,
          2559,
          3869,
          4235,
          3845,
          3530,
          3881,
          2598,
          1839,
          3049,
          3043,
          2832,
          3180,
          3631,
          5081,
          2074,
          3330,
          3229,
          3430,
          3438,
          3581,
          2635,
          2002,
          2893,
          2931,
          3111,
          2945,
          2909,
          2530,
          2589,
          3089,
          3217,
          3085,
          3196,
          3144,
          2543,
          2233,
          2672,
          2967,
          2984,
          3174,
          3322,
          2929,
          2550,
          2850,
          2051,
          2956,
          3028,
          3153,
          2281,
          1740,
          2780,
          2811,
          2829,
          3039,
          3127,
          2355,
          1825,
          2637,
          2693,
          2790,
          2839,
          2961,
          2245,
          1551,
          2631,
          2704,
          2822,
          2677,
          2957,
          2312,
          1632,
          2582,
          2713,
          2618,
          2695,
          2793,
          2289,
          1479,
          2516,
          2819,
          2759,
          1794,
          2570,
          1982,
          1430,
          2599,
          2734,
          2841,
          2754,
          2802,
          2218,
          1471,
          2646,
          2787,
          2772,
          2947,
          3591,
          2192,
          1435,
          1507,
          2347,
          2270,
          2253,
          2374,
          1872
         ],
         "yaxis": "y"
        }
       ],
       "layout": {
        "legend": {
         "tracegroupgap": 0
        },
        "margin": {
         "t": 60
        },
        "template": {
         "data": {
          "bar": [
           {
            "error_x": {
             "color": "#2a3f5f"
            },
            "error_y": {
             "color": "#2a3f5f"
            },
            "marker": {
             "line": {
              "color": "#E5ECF6",
              "width": 0.5
             },
             "pattern": {
              "fillmode": "overlay",
              "size": 10,
              "solidity": 0.2
             }
            },
            "type": "bar"
           }
          ],
          "barpolar": [
           {
            "marker": {
             "line": {
              "color": "#E5ECF6",
              "width": 0.5
             },
             "pattern": {
              "fillmode": "overlay",
              "size": 10,
              "solidity": 0.2
             }
            },
            "type": "barpolar"
           }
          ],
          "carpet": [
           {
            "aaxis": {
             "endlinecolor": "#2a3f5f",
             "gridcolor": "white",
             "linecolor": "white",
             "minorgridcolor": "white",
             "startlinecolor": "#2a3f5f"
            },
            "baxis": {
             "endlinecolor": "#2a3f5f",
             "gridcolor": "white",
             "linecolor": "white",
             "minorgridcolor": "white",
             "startlinecolor": "#2a3f5f"
            },
            "type": "carpet"
           }
          ],
          "choropleth": [
           {
            "colorbar": {
             "outlinewidth": 0,
             "ticks": ""
            },
            "type": "choropleth"
           }
          ],
          "contour": [
           {
            "colorbar": {
             "outlinewidth": 0,
             "ticks": ""
            },
            "colorscale": [
             [
              0,
              "#0d0887"
             ],
             [
              0.1111111111111111,
              "#46039f"
             ],
             [
              0.2222222222222222,
              "#7201a8"
             ],
             [
              0.3333333333333333,
              "#9c179e"
             ],
             [
              0.4444444444444444,
              "#bd3786"
             ],
             [
              0.5555555555555556,
              "#d8576b"
             ],
             [
              0.6666666666666666,
              "#ed7953"
             ],
             [
              0.7777777777777778,
              "#fb9f3a"
             ],
             [
              0.8888888888888888,
              "#fdca26"
             ],
             [
              1,
              "#f0f921"
             ]
            ],
            "type": "contour"
           }
          ],
          "contourcarpet": [
           {
            "colorbar": {
             "outlinewidth": 0,
             "ticks": ""
            },
            "type": "contourcarpet"
           }
          ],
          "heatmap": [
           {
            "colorbar": {
             "outlinewidth": 0,
             "ticks": ""
            },
            "colorscale": [
             [
              0,
              "#0d0887"
             ],
             [
              0.1111111111111111,
              "#46039f"
             ],
             [
              0.2222222222222222,
              "#7201a8"
             ],
             [
              0.3333333333333333,
              "#9c179e"
             ],
             [
              0.4444444444444444,
              "#bd3786"
             ],
             [
              0.5555555555555556,
              "#d8576b"
             ],
             [
              0.6666666666666666,
              "#ed7953"
             ],
             [
              0.7777777777777778,
              "#fb9f3a"
             ],
             [
              0.8888888888888888,
              "#fdca26"
             ],
             [
              1,
              "#f0f921"
             ]
            ],
            "type": "heatmap"
           }
          ],
          "heatmapgl": [
           {
            "colorbar": {
             "outlinewidth": 0,
             "ticks": ""
            },
            "colorscale": [
             [
              0,
              "#0d0887"
             ],
             [
              0.1111111111111111,
              "#46039f"
             ],
             [
              0.2222222222222222,
              "#7201a8"
             ],
             [
              0.3333333333333333,
              "#9c179e"
             ],
             [
              0.4444444444444444,
              "#bd3786"
             ],
             [
              0.5555555555555556,
              "#d8576b"
             ],
             [
              0.6666666666666666,
              "#ed7953"
             ],
             [
              0.7777777777777778,
              "#fb9f3a"
             ],
             [
              0.8888888888888888,
              "#fdca26"
             ],
             [
              1,
              "#f0f921"
             ]
            ],
            "type": "heatmapgl"
           }
          ],
          "histogram": [
           {
            "marker": {
             "pattern": {
              "fillmode": "overlay",
              "size": 10,
              "solidity": 0.2
             }
            },
            "type": "histogram"
           }
          ],
          "histogram2d": [
           {
            "colorbar": {
             "outlinewidth": 0,
             "ticks": ""
            },
            "colorscale": [
             [
              0,
              "#0d0887"
             ],
             [
              0.1111111111111111,
              "#46039f"
             ],
             [
              0.2222222222222222,
              "#7201a8"
             ],
             [
              0.3333333333333333,
              "#9c179e"
             ],
             [
              0.4444444444444444,
              "#bd3786"
             ],
             [
              0.5555555555555556,
              "#d8576b"
             ],
             [
              0.6666666666666666,
              "#ed7953"
             ],
             [
              0.7777777777777778,
              "#fb9f3a"
             ],
             [
              0.8888888888888888,
              "#fdca26"
             ],
             [
              1,
              "#f0f921"
             ]
            ],
            "type": "histogram2d"
           }
          ],
          "histogram2dcontour": [
           {
            "colorbar": {
             "outlinewidth": 0,
             "ticks": ""
            },
            "colorscale": [
             [
              0,
              "#0d0887"
             ],
             [
              0.1111111111111111,
              "#46039f"
             ],
             [
              0.2222222222222222,
              "#7201a8"
             ],
             [
              0.3333333333333333,
              "#9c179e"
             ],
             [
              0.4444444444444444,
              "#bd3786"
             ],
             [
              0.5555555555555556,
              "#d8576b"
             ],
             [
              0.6666666666666666,
              "#ed7953"
             ],
             [
              0.7777777777777778,
              "#fb9f3a"
             ],
             [
              0.8888888888888888,
              "#fdca26"
             ],
             [
              1,
              "#f0f921"
             ]
            ],
            "type": "histogram2dcontour"
           }
          ],
          "mesh3d": [
           {
            "colorbar": {
             "outlinewidth": 0,
             "ticks": ""
            },
            "type": "mesh3d"
           }
          ],
          "parcoords": [
           {
            "line": {
             "colorbar": {
              "outlinewidth": 0,
              "ticks": ""
             }
            },
            "type": "parcoords"
           }
          ],
          "pie": [
           {
            "automargin": true,
            "type": "pie"
           }
          ],
          "scatter": [
           {
            "fillpattern": {
             "fillmode": "overlay",
             "size": 10,
             "solidity": 0.2
            },
            "type": "scatter"
           }
          ],
          "scatter3d": [
           {
            "line": {
             "colorbar": {
              "outlinewidth": 0,
              "ticks": ""
             }
            },
            "marker": {
             "colorbar": {
              "outlinewidth": 0,
              "ticks": ""
             }
            },
            "type": "scatter3d"
           }
          ],
          "scattercarpet": [
           {
            "marker": {
             "colorbar": {
              "outlinewidth": 0,
              "ticks": ""
             }
            },
            "type": "scattercarpet"
           }
          ],
          "scattergeo": [
           {
            "marker": {
             "colorbar": {
              "outlinewidth": 0,
              "ticks": ""
             }
            },
            "type": "scattergeo"
           }
          ],
          "scattergl": [
           {
            "marker": {
             "colorbar": {
              "outlinewidth": 0,
              "ticks": ""
             }
            },
            "type": "scattergl"
           }
          ],
          "scattermapbox": [
           {
            "marker": {
             "colorbar": {
              "outlinewidth": 0,
              "ticks": ""
             }
            },
            "type": "scattermapbox"
           }
          ],
          "scatterpolar": [
           {
            "marker": {
             "colorbar": {
              "outlinewidth": 0,
              "ticks": ""
             }
            },
            "type": "scatterpolar"
           }
          ],
          "scatterpolargl": [
           {
            "marker": {
             "colorbar": {
              "outlinewidth": 0,
              "ticks": ""
             }
            },
            "type": "scatterpolargl"
           }
          ],
          "scatterternary": [
           {
            "marker": {
             "colorbar": {
              "outlinewidth": 0,
              "ticks": ""
             }
            },
            "type": "scatterternary"
           }
          ],
          "surface": [
           {
            "colorbar": {
             "outlinewidth": 0,
             "ticks": ""
            },
            "colorscale": [
             [
              0,
              "#0d0887"
             ],
             [
              0.1111111111111111,
              "#46039f"
             ],
             [
              0.2222222222222222,
              "#7201a8"
             ],
             [
              0.3333333333333333,
              "#9c179e"
             ],
             [
              0.4444444444444444,
              "#bd3786"
             ],
             [
              0.5555555555555556,
              "#d8576b"
             ],
             [
              0.6666666666666666,
              "#ed7953"
             ],
             [
              0.7777777777777778,
              "#fb9f3a"
             ],
             [
              0.8888888888888888,
              "#fdca26"
             ],
             [
              1,
              "#f0f921"
             ]
            ],
            "type": "surface"
           }
          ],
          "table": [
           {
            "cells": {
             "fill": {
              "color": "#EBF0F8"
             },
             "line": {
              "color": "white"
             }
            },
            "header": {
             "fill": {
              "color": "#C8D4E3"
             },
             "line": {
              "color": "white"
             }
            },
            "type": "table"
           }
          ]
         },
         "layout": {
          "annotationdefaults": {
           "arrowcolor": "#2a3f5f",
           "arrowhead": 0,
           "arrowwidth": 1
          },
          "autotypenumbers": "strict",
          "coloraxis": {
           "colorbar": {
            "outlinewidth": 0,
            "ticks": ""
           }
          },
          "colorscale": {
           "diverging": [
            [
             0,
             "#8e0152"
            ],
            [
             0.1,
             "#c51b7d"
            ],
            [
             0.2,
             "#de77ae"
            ],
            [
             0.3,
             "#f1b6da"
            ],
            [
             0.4,
             "#fde0ef"
            ],
            [
             0.5,
             "#f7f7f7"
            ],
            [
             0.6,
             "#e6f5d0"
            ],
            [
             0.7,
             "#b8e186"
            ],
            [
             0.8,
             "#7fbc41"
            ],
            [
             0.9,
             "#4d9221"
            ],
            [
             1,
             "#276419"
            ]
           ],
           "sequential": [
            [
             0,
             "#0d0887"
            ],
            [
             0.1111111111111111,
             "#46039f"
            ],
            [
             0.2222222222222222,
             "#7201a8"
            ],
            [
             0.3333333333333333,
             "#9c179e"
            ],
            [
             0.4444444444444444,
             "#bd3786"
            ],
            [
             0.5555555555555556,
             "#d8576b"
            ],
            [
             0.6666666666666666,
             "#ed7953"
            ],
            [
             0.7777777777777778,
             "#fb9f3a"
            ],
            [
             0.8888888888888888,
             "#fdca26"
            ],
            [
             1,
             "#f0f921"
            ]
           ],
           "sequentialminus": [
            [
             0,
             "#0d0887"
            ],
            [
             0.1111111111111111,
             "#46039f"
            ],
            [
             0.2222222222222222,
             "#7201a8"
            ],
            [
             0.3333333333333333,
             "#9c179e"
            ],
            [
             0.4444444444444444,
             "#bd3786"
            ],
            [
             0.5555555555555556,
             "#d8576b"
            ],
            [
             0.6666666666666666,
             "#ed7953"
            ],
            [
             0.7777777777777778,
             "#fb9f3a"
            ],
            [
             0.8888888888888888,
             "#fdca26"
            ],
            [
             1,
             "#f0f921"
            ]
           ]
          },
          "colorway": [
           "#636efa",
           "#EF553B",
           "#00cc96",
           "#ab63fa",
           "#FFA15A",
           "#19d3f3",
           "#FF6692",
           "#B6E880",
           "#FF97FF",
           "#FECB52"
          ],
          "font": {
           "color": "#2a3f5f"
          },
          "geo": {
           "bgcolor": "white",
           "lakecolor": "white",
           "landcolor": "#E5ECF6",
           "showlakes": true,
           "showland": true,
           "subunitcolor": "white"
          },
          "hoverlabel": {
           "align": "left"
          },
          "hovermode": "closest",
          "mapbox": {
           "style": "light"
          },
          "paper_bgcolor": "white",
          "plot_bgcolor": "#E5ECF6",
          "polar": {
           "angularaxis": {
            "gridcolor": "white",
            "linecolor": "white",
            "ticks": ""
           },
           "bgcolor": "#E5ECF6",
           "radialaxis": {
            "gridcolor": "white",
            "linecolor": "white",
            "ticks": ""
           }
          },
          "scene": {
           "xaxis": {
            "backgroundcolor": "#E5ECF6",
            "gridcolor": "white",
            "gridwidth": 2,
            "linecolor": "white",
            "showbackground": true,
            "ticks": "",
            "zerolinecolor": "white"
           },
           "yaxis": {
            "backgroundcolor": "#E5ECF6",
            "gridcolor": "white",
            "gridwidth": 2,
            "linecolor": "white",
            "showbackground": true,
            "ticks": "",
            "zerolinecolor": "white"
           },
           "zaxis": {
            "backgroundcolor": "#E5ECF6",
            "gridcolor": "white",
            "gridwidth": 2,
            "linecolor": "white",
            "showbackground": true,
            "ticks": "",
            "zerolinecolor": "white"
           }
          },
          "shapedefaults": {
           "line": {
            "color": "#2a3f5f"
           }
          },
          "ternary": {
           "aaxis": {
            "gridcolor": "white",
            "linecolor": "white",
            "ticks": ""
           },
           "baxis": {
            "gridcolor": "white",
            "linecolor": "white",
            "ticks": ""
           },
           "bgcolor": "#E5ECF6",
           "caxis": {
            "gridcolor": "white",
            "linecolor": "white",
            "ticks": ""
           }
          },
          "title": {
           "x": 0.05
          },
          "xaxis": {
           "automargin": true,
           "gridcolor": "white",
           "linecolor": "white",
           "ticks": "",
           "title": {
            "standoff": 15
           },
           "zerolinecolor": "white",
           "zerolinewidth": 2
          },
          "yaxis": {
           "automargin": true,
           "gridcolor": "white",
           "linecolor": "white",
           "ticks": "",
           "title": {
            "standoff": 15
           },
           "zerolinecolor": "white",
           "zerolinewidth": 2
          }
         }
        },
        "xaxis": {
         "anchor": "y",
         "domain": [
          0,
          1
         ],
         "dtick": "M1",
         "tickformat": "%b\n%Y",
         "title": {
          "text": "Datumszeit"
         }
        },
        "yaxis": {
         "anchor": "x",
         "domain": [
          0,
          1
         ],
         "title": {
          "text": "Querschnitt"
         }
        }
       }
      }
     },
     "metadata": {},
     "output_type": "display_data"
    }
   ],
   "source": [
    "import plotly.express as px\n",
    "fig = px.line(df_erstfeld_silenen, y='Querschnitt',x=\"Datumszeit\", hover_data=[\"Datumszeit\"])\n",
    "fig.update_xaxes(\n",
    "    dtick=\"M1\",\n",
    "    tickformat=\"%b\\n%Y\")\n",
    "fig.show()"
   ]
  },
  {
   "cell_type": "code",
   "execution_count": null,
   "metadata": {},
   "outputs": [
    {
     "data": {
      "application/vnd.plotly.v1+json": {
       "config": {
        "plotlyServerURL": "https://plot.ly"
       },
       "data": [
        {
         "hovertemplate": "Datumszeit=%{x}<br>Querschnitt=%{y}<extra></extra>",
         "legendgroup": "",
         "line": {
          "color": "#636efa",
          "dash": "solid"
         },
         "marker": {
          "symbol": "circle"
         },
         "mode": "lines",
         "name": "",
         "orientation": "v",
         "showlegend": false,
         "type": "scatter",
         "x": [
          "2022-01-01",
          "2022-01-02",
          "2022-01-03",
          "2022-01-04",
          "2022-01-05",
          "2022-01-06",
          "2022-01-07",
          "2022-01-08",
          "2022-01-09",
          "2022-01-10",
          "2022-01-11",
          "2022-01-12",
          "2022-01-13",
          "2022-01-14",
          "2022-01-15",
          "2022-01-16",
          "2022-01-17",
          "2022-01-18",
          "2022-01-19",
          "2022-01-20",
          "2022-01-21",
          "2022-01-22",
          "2022-01-23",
          "2022-01-24",
          "2022-01-25",
          "2022-01-26",
          "2022-01-27",
          "2022-01-28",
          "2022-01-29",
          "2022-01-30",
          "2022-01-31",
          "2022-02-01",
          "2022-02-02",
          "2022-02-03",
          "2022-02-04",
          "2022-02-05",
          "2022-02-06",
          "2022-02-07",
          "2022-02-08",
          "2022-02-09",
          "2022-02-10",
          "2022-02-11",
          "2022-02-12",
          "2022-02-13",
          "2022-02-14",
          "2022-02-15",
          "2022-02-16",
          "2022-02-17",
          "2022-02-18",
          "2022-02-19",
          "2022-02-20",
          "2022-02-21",
          "2022-02-22",
          "2022-02-23",
          "2022-02-24",
          "2022-02-25",
          "2022-02-26",
          "2022-02-27",
          "2022-02-28",
          "2022-03-01",
          "2022-03-02",
          "2022-03-03",
          "2022-03-04",
          "2022-03-05",
          "2022-03-06",
          "2022-03-07",
          "2022-03-08",
          "2022-03-09",
          "2022-03-10",
          "2022-03-11",
          "2022-03-12",
          "2022-03-13",
          "2022-03-14",
          "2022-03-15",
          "2022-03-16",
          "2022-03-17",
          "2022-03-18",
          "2022-03-19",
          "2022-03-20",
          "2022-03-21",
          "2022-03-22",
          "2022-03-23",
          "2022-03-24",
          "2022-03-25",
          "2022-03-26",
          "2022-03-27",
          "2022-03-28",
          "2022-03-29",
          "2022-03-30",
          "2022-03-31",
          "2022-04-01",
          "2022-04-02",
          "2022-04-03",
          "2022-04-04",
          "2022-04-05",
          "2022-04-06",
          "2022-04-07",
          "2022-04-08",
          "2022-04-09",
          "2022-04-10",
          "2022-04-11",
          "2022-04-12",
          "2022-04-13",
          "2022-04-14",
          "2022-04-15",
          "2022-04-16",
          "2022-04-17",
          "2022-04-18",
          "2022-04-19",
          "2022-04-20",
          "2022-04-21",
          "2022-04-22",
          "2022-04-23",
          "2022-04-24",
          "2022-04-25",
          "2022-04-26",
          "2022-04-27",
          "2022-04-28",
          "2022-04-29",
          "2022-04-30",
          "2022-05-01",
          "2022-05-02",
          "2022-05-03",
          "2022-05-04",
          "2022-05-05",
          "2022-05-06",
          "2022-05-07",
          "2022-05-08",
          "2022-05-09",
          "2022-05-10",
          "2022-05-11",
          "2022-05-12",
          "2022-05-13",
          "2022-05-14",
          "2022-05-15",
          "2022-05-16",
          "2022-05-17",
          "2022-05-18",
          "2022-05-19",
          "2022-05-20",
          "2022-05-21",
          "2022-05-22",
          "2022-05-23",
          "2022-05-24",
          "2022-05-25",
          "2022-05-26",
          "2022-05-27",
          "2022-05-28",
          "2022-05-29",
          "2022-05-30",
          "2022-05-31",
          "2022-06-01",
          "2022-06-02",
          "2022-06-03",
          "2022-06-04",
          "2022-06-05",
          "2022-06-06",
          "2022-06-07",
          "2022-06-08",
          "2022-06-09",
          "2022-06-10",
          "2022-06-11",
          "2022-06-12",
          "2022-06-13",
          "2022-06-14",
          "2022-06-15",
          "2022-06-16",
          "2022-06-17",
          "2022-06-18",
          "2022-06-19",
          "2022-06-20",
          "2022-06-21",
          "2022-06-22",
          "2022-06-23",
          "2022-06-24",
          "2022-06-25",
          "2022-06-26",
          "2022-06-27",
          "2022-06-28",
          "2022-06-29",
          "2022-06-30",
          "2022-07-01",
          "2022-07-02",
          "2022-07-03",
          "2022-07-04",
          "2022-07-05",
          "2022-07-06",
          "2022-07-07",
          "2022-07-08",
          "2022-07-09",
          "2022-07-10",
          "2022-07-11",
          "2022-07-12",
          "2022-07-13",
          "2022-07-14",
          "2022-07-15",
          "2022-07-16",
          "2022-07-17",
          "2022-07-18",
          "2022-07-19",
          "2022-07-20",
          "2022-07-21",
          "2022-07-22",
          "2022-07-23",
          "2022-07-24",
          "2022-07-25",
          "2022-07-26",
          "2022-07-27",
          "2022-07-28",
          "2022-07-29",
          "2022-07-30",
          "2022-07-31",
          "2022-08-01",
          "2022-08-02",
          "2022-08-03",
          "2022-08-04",
          "2022-08-05",
          "2022-08-06",
          "2022-08-07",
          "2022-08-08",
          "2022-08-09",
          "2022-08-10",
          "2022-08-11",
          "2022-08-12",
          "2022-08-13",
          "2022-08-14",
          "2022-08-15",
          "2022-08-16",
          "2022-08-17",
          "2022-08-18",
          "2022-08-19",
          "2022-08-20",
          "2022-08-21",
          "2022-08-22",
          "2022-08-23",
          "2022-08-24",
          "2022-08-25",
          "2022-08-26",
          "2022-08-27",
          "2022-08-28",
          "2022-08-29",
          "2022-08-30",
          "2022-08-31",
          "2022-09-01",
          "2022-09-02",
          "2022-09-03",
          "2022-09-04",
          "2022-09-05",
          "2022-09-06",
          "2022-09-07",
          "2022-09-08",
          "2022-09-09",
          "2022-09-10",
          "2022-09-11",
          "2022-09-12",
          "2022-09-13",
          "2022-09-14",
          "2022-09-15",
          "2022-09-16",
          "2022-09-17",
          "2022-09-18",
          "2022-09-19",
          "2022-09-20",
          "2022-09-21",
          "2022-09-22",
          "2022-09-23",
          "2022-09-24",
          "2022-09-25",
          "2022-09-26",
          "2022-09-27",
          "2022-09-28",
          "2022-09-29",
          "2022-09-30",
          "2022-10-01",
          "2022-10-02",
          "2022-10-03",
          "2022-10-04",
          "2022-10-05",
          "2022-10-06",
          "2022-10-07",
          "2022-10-08",
          "2022-10-09",
          "2022-10-10",
          "2022-10-11",
          "2022-10-12",
          "2022-10-13",
          "2022-10-14",
          "2022-10-15",
          "2022-10-16",
          "2022-10-17",
          "2022-10-18",
          "2022-10-19",
          "2022-10-20",
          "2022-10-21",
          "2022-10-22",
          "2022-10-23",
          "2022-10-24",
          "2022-10-25",
          "2022-10-26",
          "2022-10-27",
          "2022-10-28",
          "2022-10-29",
          "2022-10-30",
          "2022-10-31",
          "2022-11-01",
          "2022-11-02",
          "2022-11-03",
          "2022-11-04",
          "2022-11-05",
          "2022-11-06",
          "2022-11-07",
          "2022-11-08",
          "2022-11-09",
          "2022-11-10",
          "2022-11-11",
          "2022-11-12",
          "2022-11-13",
          "2022-11-14",
          "2022-11-15",
          "2022-11-16",
          "2022-11-17",
          "2022-11-18",
          "2022-11-19",
          "2022-11-20",
          "2022-11-21",
          "2022-11-22",
          "2022-11-23",
          "2022-11-24",
          "2022-11-25",
          "2022-11-26",
          "2022-11-27",
          "2022-11-28",
          "2022-11-29",
          "2022-11-30",
          "2022-12-01",
          "2022-12-02",
          "2022-12-03",
          "2022-12-04",
          "2022-12-05",
          "2022-12-06",
          "2022-12-07",
          "2022-12-08",
          "2022-12-09",
          "2022-12-10",
          "2022-12-11",
          "2022-12-12",
          "2022-12-13",
          "2022-12-14",
          "2022-12-15",
          "2022-12-16",
          "2022-12-17",
          "2022-12-18",
          "2022-12-19",
          "2022-12-20",
          "2022-12-21",
          "2022-12-22",
          "2022-12-23",
          "2022-12-24",
          "2022-12-25",
          "2022-12-26",
          "2022-12-27",
          "2022-12-28",
          "2022-12-29",
          "2022-12-30",
          "2022-12-31"
         ],
         "xaxis": "x",
         "y": [
          1067,
          1139,
          1279,
          1284,
          1369,
          1085,
          1630,
          1095,
          818,
          1304,
          1433,
          1429,
          1559,
          1598,
          1397,
          1284,
          1459,
          1437,
          1685,
          1387,
          1708,
          1169,
          1151,
          1428,
          1560,
          1722,
          1607,
          1604,
          1337,
          1034,
          1519,
          1339,
          1333,
          1546,
          1693,
          1328,
          1087,
          1371,
          1580,
          1698,
          1635,
          1593,
          1384,
          2034,
          1490,
          1488,
          1419,
          1646,
          1940,
          1342,
          1124,
          1491,
          1585,
          1584,
          1390,
          1775,
          1341,
          1431,
          1397,
          1441,
          1596,
          1732,
          1714,
          1570,
          1423,
          1532,
          1551,
          1804,
          1661,
          1655,
          1414,
          1170,
          1704,
          1674,
          1662,
          1831,
          1713,
          1457,
          1246,
          1717,
          1798,
          1699,
          1682,
          2349,
          1544,
          1478,
          2000,
          1897,
          1814,
          1764,
          1703,
          1545,
          1042,
          1819,
          1730,
          1815,
          1800,
          3864,
          4101,
          2107,
          1968,
          2004,
          4014,
          6745,
          7006,
          1669,
          1447,
          2336,
          2865,
          1864,
          1906,
          1923,
          1750,
          1235,
          2371,
          1778,
          1884,
          2009,
          2868,
          1783,
          1251,
          1779,
          1757,
          1652,
          1670,
          2373,
          1442,
          1296,
          1784,
          1870,
          1902,
          1964,
          3111,
          2713,
          1693,
          1976,
          2468,
          2248,
          2529,
          4823,
          3522,
          1901,
          2190,
          2351,
          7787,
          9193,
          2502,
          1752,
          1595,
          2025,
          1975,
          1935,
          1984,
          4842,
          9058,
          3920,
          1851,
          2404,
          1968,
          2501,
          2915,
          4787,
          2501,
          2395,
          2278,
          2738,
          3989,
          2634,
          2584,
          2229,
          2569,
          2068,
          1990,
          2442,
          3710,
          4629,
          2263,
          2164,
          1922,
          2393,
          2352,
          4452,
          5212,
          2463,
          2444,
          2175,
          2273,
          2993,
          5248,
          7600,
          4157,
          4060,
          2602,
          3893,
          4407,
          8152,
          10598,
          6991,
          6597,
          3379,
          3464,
          4391,
          7416,
          8986,
          6423,
          6121,
          2745,
          3044,
          4100,
          6071,
          7478,
          5663,
          3433,
          3069,
          3614,
          2712,
          3751,
          4038,
          2498,
          3500,
          2392,
          2497,
          2460,
          3140,
          6111,
          3264,
          2133,
          2356,
          2108,
          2199,
          3888,
          6413,
          3116,
          3025,
          2354,
          2440,
          2442,
          2961,
          4608,
          2626,
          3750,
          2363,
          1942,
          2439,
          3753,
          4887,
          3751,
          3757,
          2904,
          2595,
          2928,
          4531,
          5220,
          2998,
          3647,
          2457,
          2592,
          2660,
          2980,
          3705,
          2706,
          2278,
          2179,
          2185,
          2325,
          2416,
          1856,
          1616,
          2324,
          1818,
          1749,
          2370,
          4482,
          5333,
          2613,
          2767,
          2278,
          2401,
          2399,
          2525,
          2272,
          1908,
          1869,
          1873,
          1844,
          1819,
          5983,
          1633,
          1759,
          1938,
          2026,
          1946,
          2300,
          1915,
          1670,
          1576,
          1699,
          1888,
          1907,
          1951,
          2389,
          2043,
          1903,
          1691,
          1317,
          1754,
          1720,
          2050,
          1245,
          1287,
          1727,
          1612,
          1646,
          1743,
          1856,
          1439,
          1365,
          1592,
          1600,
          1673,
          1683,
          1762,
          1453,
          1109,
          1602,
          1629,
          1654,
          1742,
          1847,
          1643,
          1157,
          1537,
          1538,
          1609,
          1529,
          1634,
          1269,
          915,
          1520,
          1521,
          1593,
          1245,
          1463,
          1057,
          1011,
          1450,
          1521,
          1557,
          1568,
          1555,
          1323,
          1103,
          1492,
          1639,
          1679,
          1787,
          3348,
          1201,
          1062,
          1736,
          2594,
          1377,
          1325,
          1416,
          1149
         ],
         "yaxis": "y"
        }
       ],
       "layout": {
        "legend": {
         "tracegroupgap": 0
        },
        "margin": {
         "t": 60
        },
        "template": {
         "data": {
          "bar": [
           {
            "error_x": {
             "color": "#2a3f5f"
            },
            "error_y": {
             "color": "#2a3f5f"
            },
            "marker": {
             "line": {
              "color": "#E5ECF6",
              "width": 0.5
             },
             "pattern": {
              "fillmode": "overlay",
              "size": 10,
              "solidity": 0.2
             }
            },
            "type": "bar"
           }
          ],
          "barpolar": [
           {
            "marker": {
             "line": {
              "color": "#E5ECF6",
              "width": 0.5
             },
             "pattern": {
              "fillmode": "overlay",
              "size": 10,
              "solidity": 0.2
             }
            },
            "type": "barpolar"
           }
          ],
          "carpet": [
           {
            "aaxis": {
             "endlinecolor": "#2a3f5f",
             "gridcolor": "white",
             "linecolor": "white",
             "minorgridcolor": "white",
             "startlinecolor": "#2a3f5f"
            },
            "baxis": {
             "endlinecolor": "#2a3f5f",
             "gridcolor": "white",
             "linecolor": "white",
             "minorgridcolor": "white",
             "startlinecolor": "#2a3f5f"
            },
            "type": "carpet"
           }
          ],
          "choropleth": [
           {
            "colorbar": {
             "outlinewidth": 0,
             "ticks": ""
            },
            "type": "choropleth"
           }
          ],
          "contour": [
           {
            "colorbar": {
             "outlinewidth": 0,
             "ticks": ""
            },
            "colorscale": [
             [
              0,
              "#0d0887"
             ],
             [
              0.1111111111111111,
              "#46039f"
             ],
             [
              0.2222222222222222,
              "#7201a8"
             ],
             [
              0.3333333333333333,
              "#9c179e"
             ],
             [
              0.4444444444444444,
              "#bd3786"
             ],
             [
              0.5555555555555556,
              "#d8576b"
             ],
             [
              0.6666666666666666,
              "#ed7953"
             ],
             [
              0.7777777777777778,
              "#fb9f3a"
             ],
             [
              0.8888888888888888,
              "#fdca26"
             ],
             [
              1,
              "#f0f921"
             ]
            ],
            "type": "contour"
           }
          ],
          "contourcarpet": [
           {
            "colorbar": {
             "outlinewidth": 0,
             "ticks": ""
            },
            "type": "contourcarpet"
           }
          ],
          "heatmap": [
           {
            "colorbar": {
             "outlinewidth": 0,
             "ticks": ""
            },
            "colorscale": [
             [
              0,
              "#0d0887"
             ],
             [
              0.1111111111111111,
              "#46039f"
             ],
             [
              0.2222222222222222,
              "#7201a8"
             ],
             [
              0.3333333333333333,
              "#9c179e"
             ],
             [
              0.4444444444444444,
              "#bd3786"
             ],
             [
              0.5555555555555556,
              "#d8576b"
             ],
             [
              0.6666666666666666,
              "#ed7953"
             ],
             [
              0.7777777777777778,
              "#fb9f3a"
             ],
             [
              0.8888888888888888,
              "#fdca26"
             ],
             [
              1,
              "#f0f921"
             ]
            ],
            "type": "heatmap"
           }
          ],
          "heatmapgl": [
           {
            "colorbar": {
             "outlinewidth": 0,
             "ticks": ""
            },
            "colorscale": [
             [
              0,
              "#0d0887"
             ],
             [
              0.1111111111111111,
              "#46039f"
             ],
             [
              0.2222222222222222,
              "#7201a8"
             ],
             [
              0.3333333333333333,
              "#9c179e"
             ],
             [
              0.4444444444444444,
              "#bd3786"
             ],
             [
              0.5555555555555556,
              "#d8576b"
             ],
             [
              0.6666666666666666,
              "#ed7953"
             ],
             [
              0.7777777777777778,
              "#fb9f3a"
             ],
             [
              0.8888888888888888,
              "#fdca26"
             ],
             [
              1,
              "#f0f921"
             ]
            ],
            "type": "heatmapgl"
           }
          ],
          "histogram": [
           {
            "marker": {
             "pattern": {
              "fillmode": "overlay",
              "size": 10,
              "solidity": 0.2
             }
            },
            "type": "histogram"
           }
          ],
          "histogram2d": [
           {
            "colorbar": {
             "outlinewidth": 0,
             "ticks": ""
            },
            "colorscale": [
             [
              0,
              "#0d0887"
             ],
             [
              0.1111111111111111,
              "#46039f"
             ],
             [
              0.2222222222222222,
              "#7201a8"
             ],
             [
              0.3333333333333333,
              "#9c179e"
             ],
             [
              0.4444444444444444,
              "#bd3786"
             ],
             [
              0.5555555555555556,
              "#d8576b"
             ],
             [
              0.6666666666666666,
              "#ed7953"
             ],
             [
              0.7777777777777778,
              "#fb9f3a"
             ],
             [
              0.8888888888888888,
              "#fdca26"
             ],
             [
              1,
              "#f0f921"
             ]
            ],
            "type": "histogram2d"
           }
          ],
          "histogram2dcontour": [
           {
            "colorbar": {
             "outlinewidth": 0,
             "ticks": ""
            },
            "colorscale": [
             [
              0,
              "#0d0887"
             ],
             [
              0.1111111111111111,
              "#46039f"
             ],
             [
              0.2222222222222222,
              "#7201a8"
             ],
             [
              0.3333333333333333,
              "#9c179e"
             ],
             [
              0.4444444444444444,
              "#bd3786"
             ],
             [
              0.5555555555555556,
              "#d8576b"
             ],
             [
              0.6666666666666666,
              "#ed7953"
             ],
             [
              0.7777777777777778,
              "#fb9f3a"
             ],
             [
              0.8888888888888888,
              "#fdca26"
             ],
             [
              1,
              "#f0f921"
             ]
            ],
            "type": "histogram2dcontour"
           }
          ],
          "mesh3d": [
           {
            "colorbar": {
             "outlinewidth": 0,
             "ticks": ""
            },
            "type": "mesh3d"
           }
          ],
          "parcoords": [
           {
            "line": {
             "colorbar": {
              "outlinewidth": 0,
              "ticks": ""
             }
            },
            "type": "parcoords"
           }
          ],
          "pie": [
           {
            "automargin": true,
            "type": "pie"
           }
          ],
          "scatter": [
           {
            "fillpattern": {
             "fillmode": "overlay",
             "size": 10,
             "solidity": 0.2
            },
            "type": "scatter"
           }
          ],
          "scatter3d": [
           {
            "line": {
             "colorbar": {
              "outlinewidth": 0,
              "ticks": ""
             }
            },
            "marker": {
             "colorbar": {
              "outlinewidth": 0,
              "ticks": ""
             }
            },
            "type": "scatter3d"
           }
          ],
          "scattercarpet": [
           {
            "marker": {
             "colorbar": {
              "outlinewidth": 0,
              "ticks": ""
             }
            },
            "type": "scattercarpet"
           }
          ],
          "scattergeo": [
           {
            "marker": {
             "colorbar": {
              "outlinewidth": 0,
              "ticks": ""
             }
            },
            "type": "scattergeo"
           }
          ],
          "scattergl": [
           {
            "marker": {
             "colorbar": {
              "outlinewidth": 0,
              "ticks": ""
             }
            },
            "type": "scattergl"
           }
          ],
          "scattermapbox": [
           {
            "marker": {
             "colorbar": {
              "outlinewidth": 0,
              "ticks": ""
             }
            },
            "type": "scattermapbox"
           }
          ],
          "scatterpolar": [
           {
            "marker": {
             "colorbar": {
              "outlinewidth": 0,
              "ticks": ""
             }
            },
            "type": "scatterpolar"
           }
          ],
          "scatterpolargl": [
           {
            "marker": {
             "colorbar": {
              "outlinewidth": 0,
              "ticks": ""
             }
            },
            "type": "scatterpolargl"
           }
          ],
          "scatterternary": [
           {
            "marker": {
             "colorbar": {
              "outlinewidth": 0,
              "ticks": ""
             }
            },
            "type": "scatterternary"
           }
          ],
          "surface": [
           {
            "colorbar": {
             "outlinewidth": 0,
             "ticks": ""
            },
            "colorscale": [
             [
              0,
              "#0d0887"
             ],
             [
              0.1111111111111111,
              "#46039f"
             ],
             [
              0.2222222222222222,
              "#7201a8"
             ],
             [
              0.3333333333333333,
              "#9c179e"
             ],
             [
              0.4444444444444444,
              "#bd3786"
             ],
             [
              0.5555555555555556,
              "#d8576b"
             ],
             [
              0.6666666666666666,
              "#ed7953"
             ],
             [
              0.7777777777777778,
              "#fb9f3a"
             ],
             [
              0.8888888888888888,
              "#fdca26"
             ],
             [
              1,
              "#f0f921"
             ]
            ],
            "type": "surface"
           }
          ],
          "table": [
           {
            "cells": {
             "fill": {
              "color": "#EBF0F8"
             },
             "line": {
              "color": "white"
             }
            },
            "header": {
             "fill": {
              "color": "#C8D4E3"
             },
             "line": {
              "color": "white"
             }
            },
            "type": "table"
           }
          ]
         },
         "layout": {
          "annotationdefaults": {
           "arrowcolor": "#2a3f5f",
           "arrowhead": 0,
           "arrowwidth": 1
          },
          "autotypenumbers": "strict",
          "coloraxis": {
           "colorbar": {
            "outlinewidth": 0,
            "ticks": ""
           }
          },
          "colorscale": {
           "diverging": [
            [
             0,
             "#8e0152"
            ],
            [
             0.1,
             "#c51b7d"
            ],
            [
             0.2,
             "#de77ae"
            ],
            [
             0.3,
             "#f1b6da"
            ],
            [
             0.4,
             "#fde0ef"
            ],
            [
             0.5,
             "#f7f7f7"
            ],
            [
             0.6,
             "#e6f5d0"
            ],
            [
             0.7,
             "#b8e186"
            ],
            [
             0.8,
             "#7fbc41"
            ],
            [
             0.9,
             "#4d9221"
            ],
            [
             1,
             "#276419"
            ]
           ],
           "sequential": [
            [
             0,
             "#0d0887"
            ],
            [
             0.1111111111111111,
             "#46039f"
            ],
            [
             0.2222222222222222,
             "#7201a8"
            ],
            [
             0.3333333333333333,
             "#9c179e"
            ],
            [
             0.4444444444444444,
             "#bd3786"
            ],
            [
             0.5555555555555556,
             "#d8576b"
            ],
            [
             0.6666666666666666,
             "#ed7953"
            ],
            [
             0.7777777777777778,
             "#fb9f3a"
            ],
            [
             0.8888888888888888,
             "#fdca26"
            ],
            [
             1,
             "#f0f921"
            ]
           ],
           "sequentialminus": [
            [
             0,
             "#0d0887"
            ],
            [
             0.1111111111111111,
             "#46039f"
            ],
            [
             0.2222222222222222,
             "#7201a8"
            ],
            [
             0.3333333333333333,
             "#9c179e"
            ],
            [
             0.4444444444444444,
             "#bd3786"
            ],
            [
             0.5555555555555556,
             "#d8576b"
            ],
            [
             0.6666666666666666,
             "#ed7953"
            ],
            [
             0.7777777777777778,
             "#fb9f3a"
            ],
            [
             0.8888888888888888,
             "#fdca26"
            ],
            [
             1,
             "#f0f921"
            ]
           ]
          },
          "colorway": [
           "#636efa",
           "#EF553B",
           "#00cc96",
           "#ab63fa",
           "#FFA15A",
           "#19d3f3",
           "#FF6692",
           "#B6E880",
           "#FF97FF",
           "#FECB52"
          ],
          "font": {
           "color": "#2a3f5f"
          },
          "geo": {
           "bgcolor": "white",
           "lakecolor": "white",
           "landcolor": "#E5ECF6",
           "showlakes": true,
           "showland": true,
           "subunitcolor": "white"
          },
          "hoverlabel": {
           "align": "left"
          },
          "hovermode": "closest",
          "mapbox": {
           "style": "light"
          },
          "paper_bgcolor": "white",
          "plot_bgcolor": "#E5ECF6",
          "polar": {
           "angularaxis": {
            "gridcolor": "white",
            "linecolor": "white",
            "ticks": ""
           },
           "bgcolor": "#E5ECF6",
           "radialaxis": {
            "gridcolor": "white",
            "linecolor": "white",
            "ticks": ""
           }
          },
          "scene": {
           "xaxis": {
            "backgroundcolor": "#E5ECF6",
            "gridcolor": "white",
            "gridwidth": 2,
            "linecolor": "white",
            "showbackground": true,
            "ticks": "",
            "zerolinecolor": "white"
           },
           "yaxis": {
            "backgroundcolor": "#E5ECF6",
            "gridcolor": "white",
            "gridwidth": 2,
            "linecolor": "white",
            "showbackground": true,
            "ticks": "",
            "zerolinecolor": "white"
           },
           "zaxis": {
            "backgroundcolor": "#E5ECF6",
            "gridcolor": "white",
            "gridwidth": 2,
            "linecolor": "white",
            "showbackground": true,
            "ticks": "",
            "zerolinecolor": "white"
           }
          },
          "shapedefaults": {
           "line": {
            "color": "#2a3f5f"
           }
          },
          "ternary": {
           "aaxis": {
            "gridcolor": "white",
            "linecolor": "white",
            "ticks": ""
           },
           "baxis": {
            "gridcolor": "white",
            "linecolor": "white",
            "ticks": ""
           },
           "bgcolor": "#E5ECF6",
           "caxis": {
            "gridcolor": "white",
            "linecolor": "white",
            "ticks": ""
           }
          },
          "title": {
           "x": 0.05
          },
          "xaxis": {
           "automargin": true,
           "gridcolor": "white",
           "linecolor": "white",
           "ticks": "",
           "title": {
            "standoff": 15
           },
           "zerolinecolor": "white",
           "zerolinewidth": 2
          },
          "yaxis": {
           "automargin": true,
           "gridcolor": "white",
           "linecolor": "white",
           "ticks": "",
           "title": {
            "standoff": 15
           },
           "zerolinecolor": "white",
           "zerolinewidth": 2
          }
         }
        },
        "xaxis": {
         "anchor": "y",
         "domain": [
          0,
          1
         ],
         "dtick": "M1",
         "tickformat": "%b\n%Y",
         "title": {
          "text": "Datumszeit"
         }
        },
        "yaxis": {
         "anchor": "x",
         "domain": [
          0,
          1
         ],
         "title": {
          "text": "Querschnitt"
         }
        }
       }
      }
     },
     "metadata": {},
     "output_type": "display_data"
    }
   ],
   "source": [
    "import plotly.express as px\n",
    "fig = px.line(df_silenen_amsteg, y='Querschnitt',x=\"Datumszeit\", hover_data=[\"Datumszeit\"])\n",
    "\n",
    "fig.update_xaxes(\n",
    "    dtick=\"M1\",\n",
    "    tickformat=\"%b\\n%Y\")\n",
    "fig.show()"
   ]
  },
  {
   "cell_type": "code",
   "execution_count": null,
   "metadata": {},
   "outputs": [],
   "source": []
  }
 ],
 "metadata": {
  "kernelspec": {
   "display_name": "Python 3",
   "language": "python",
   "name": "python3"
  },
  "language_info": {
   "codemirror_mode": {
    "name": "ipython",
    "version": 3
   },
   "file_extension": ".py",
   "mimetype": "text/x-python",
   "name": "python",
   "nbconvert_exporter": "python",
   "pygments_lexer": "ipython3",
   "version": "3.9.5"
  },
  "orig_nbformat": 4
 },
 "nbformat": 4,
 "nbformat_minor": 2
}
