{
 "cells": [
  {
   "cell_type": "code",
   "execution_count": 2,
   "metadata": {
    "ExecuteTime": {
     "start_time": "2023-03-31T14:52:25.215148Z",
     "end_time": "2023-03-31T14:52:25.559454Z"
    }
   },
   "outputs": [],
   "source": [
    "import math\n",
    "import time\n",
    "import numpy as np\n",
    "import json\n",
    "import glob\n",
    "import warnings\n",
    "import requests\n",
    "\n",
    "import matplotlib.pyplot as plt\n",
    "import seaborn as sns\n",
    "\n",
    "import pandas as pd\n",
    "import geopandas as gpd\n",
    "pd.set_option('display.max_columns', None)\n",
    "\n",
    "\n",
    "import datetime\n",
    "\n"
   ]
  },
  {
   "cell_type": "code",
   "execution_count": null,
   "outputs": [],
   "source": [],
   "metadata": {
    "collapsed": false
   }
  },
  {
   "attachments": {},
   "cell_type": "markdown",
   "metadata": {},
   "source": [
    "# Import der Daten"
   ]
  },
  {
   "cell_type": "code",
   "execution_count": 17,
   "metadata": {
    "ExecuteTime": {
     "start_time": "2023-03-31T15:45:20.349898Z",
     "end_time": "2023-03-31T15:45:26.665166Z"
    }
   },
   "outputs": [
    {
     "name": "stdout",
     "output_type": "stream",
     "text": [
      "../data/DatenSisag/Verkehrsdaten/Rohdaten Auswertungfiles xls/all\\5401_2022.xlsx\n"
     ]
    }
   ],
   "source": [
    "# import required module\n",
    "import os\n",
    "# assign directory\n",
    "directory = '../data/DatenSisag/Verkehrsdaten/Rohdaten Auswertungfiles xls/all'\n",
    "dflist = {}\n",
    "messstelle = \"\"\n",
    "\n",
    "# iterate over files in\n",
    "# that directory\n",
    "for filename in os.listdir(directory):\n",
    "    f = os.path.join(directory, filename)\n",
    "    # checking if it is a file\n",
    "    if os.path.isfile(f):\n",
    "        print(f)\n",
    "        if filename.startswith(\"ok_\") :\n",
    "            messstelle =  filename[3:7]\n",
    "        else:\n",
    "            messstelle = filename[0:3]\n",
    "        dflist[messstelle]=pd.read_excel(f)\n",
    "        break\n"
   ]
  },
  {
   "cell_type": "code",
   "execution_count": null,
   "outputs": [],
   "source": [],
   "metadata": {
    "collapsed": false
   }
  },
  {
   "attachments": {},
   "cell_type": "markdown",
   "metadata": {},
   "source": [
    "# Datumszeile erstellen"
   ]
  },
  {
   "cell_type": "code",
   "execution_count": 5,
   "metadata": {
    "ExecuteTime": {
     "start_time": "2023-03-31T14:55:03.450282Z",
     "end_time": "2023-03-31T14:55:03.539636Z"
    }
   },
   "outputs": [],
   "source": [
    "df1.HHMM = df1.HHMM / 100\n",
    "df1['HHMM']=df1['HHMM'].replace(24.0,0.0)\n",
    "df1.head(100)\n",
    "df1['Datum und Zeit'] = df1[\"Datum\"].astype(str)+ ' ' +df1.HHMM.astype(str)\n",
    "df1['Datumszeit'] = pd.to_datetime(df1['Datum und Zeit'], format='%Y-%m-%d %H.%M')"
   ]
  },
  {
   "cell_type": "code",
   "execution_count": 6,
   "metadata": {
    "ExecuteTime": {
     "start_time": "2023-03-31T14:55:29.711231Z",
     "end_time": "2023-03-31T14:55:29.762076Z"
    }
   },
   "outputs": [
    {
     "data": {
      "text/plain": "        Zst      Datum  HHMM  Richtung  -  Klasse  CS 1  CS 2  CS 3  CS 4  \\\n0      6009 2022-01-01   1.0         1  0       1     0    18     0     0   \n1      6009 2022-01-01   1.0         1  0       2     0     0    18     0   \n2      6009 2022-01-01   1.0         2  0       1     0    21     0     0   \n3      6009 2022-01-01   1.0         2  0       2     0     0    21     0   \n4      6009 2022-01-01   2.0         1  0       1     1    38     0     0   \n...     ...        ...   ...       ... ..     ...   ...   ...   ...   ...   \n35031  6009 2022-12-31  23.0         2  0       2     0     1    26     0   \n35032  6009 2022-12-31   0.0         1  0       1     1    22     0     0   \n35033  6009 2022-12-31   0.0         1  0       2     0     1    22     0   \n35034  6009 2022-12-31   0.0         2  0       1     0    14     0     0   \n35035  6009 2022-12-31   0.0         2  0       2     0     0    14     0   \n\n       CS 5  CS 6  CS 7  CS 8  CS 9  CS10  Day Helper  Month Helper  \\\n0       NaN   NaN   NaN   NaN   NaN   NaN           7             1   \n1       0.0   0.0   0.0   0.0   0.0   0.0           7             1   \n2       NaN   NaN   NaN   NaN   NaN   NaN           7             1   \n3       0.0   0.0   0.0   0.0   0.0   0.0           7             1   \n4       NaN   NaN   NaN   NaN   NaN   NaN           7             1   \n...     ...   ...   ...   ...   ...   ...         ...           ...   \n35031   0.0   0.0   0.0   0.0   0.0   0.0           7            12   \n35032   NaN   NaN   NaN   NaN   NaN   NaN           7            12   \n35033   0.0   0.0   0.0   0.0   0.0   0.0           7            12   \n35034   NaN   NaN   NaN   NaN   NaN   NaN           7            12   \n35035   0.0   0.0   0.0   0.0   0.0   0.0           7            12   \n\n       Querschnitt Wochenende/Feirtag   Datum und Zeit          Datumszeit  \n0              NaN                  x   2022-01-01 1.0 2022-01-01 01:00:00  \n1             18.0                  x   2022-01-01 1.0 2022-01-01 01:00:00  \n2              NaN                  x   2022-01-01 1.0 2022-01-01 01:00:00  \n3             21.0                  x   2022-01-01 1.0 2022-01-01 01:00:00  \n4              NaN                  x   2022-01-01 2.0 2022-01-01 02:00:00  \n...            ...                ...              ...                 ...  \n35031         27.0                  x  2022-12-31 23.0 2022-12-31 23:00:00  \n35032          NaN                  x   2022-12-31 0.0 2022-12-31 00:00:00  \n35033         23.0                  x   2022-12-31 0.0 2022-12-31 00:00:00  \n35034          NaN                  x   2022-12-31 0.0 2022-12-31 00:00:00  \n35035         14.0                  x   2022-12-31 0.0 2022-12-31 00:00:00  \n\n[35036 rows x 22 columns]",
      "text/html": "<div>\n<style scoped>\n    .dataframe tbody tr th:only-of-type {\n        vertical-align: middle;\n    }\n\n    .dataframe tbody tr th {\n        vertical-align: top;\n    }\n\n    .dataframe thead th {\n        text-align: right;\n    }\n</style>\n<table border=\"1\" class=\"dataframe\">\n  <thead>\n    <tr style=\"text-align: right;\">\n      <th></th>\n      <th>Zst</th>\n      <th>Datum</th>\n      <th>HHMM</th>\n      <th>Richtung</th>\n      <th>-</th>\n      <th>Klasse</th>\n      <th>CS 1</th>\n      <th>CS 2</th>\n      <th>CS 3</th>\n      <th>CS 4</th>\n      <th>CS 5</th>\n      <th>CS 6</th>\n      <th>CS 7</th>\n      <th>CS 8</th>\n      <th>CS 9</th>\n      <th>CS10</th>\n      <th>Day Helper</th>\n      <th>Month Helper</th>\n      <th>Querschnitt</th>\n      <th>Wochenende/Feirtag</th>\n      <th>Datum und Zeit</th>\n      <th>Datumszeit</th>\n    </tr>\n  </thead>\n  <tbody>\n    <tr>\n      <th>0</th>\n      <td>6009</td>\n      <td>2022-01-01</td>\n      <td>1.0</td>\n      <td>1</td>\n      <td>0</td>\n      <td>1</td>\n      <td>0</td>\n      <td>18</td>\n      <td>0</td>\n      <td>0</td>\n      <td>NaN</td>\n      <td>NaN</td>\n      <td>NaN</td>\n      <td>NaN</td>\n      <td>NaN</td>\n      <td>NaN</td>\n      <td>7</td>\n      <td>1</td>\n      <td>NaN</td>\n      <td>x</td>\n      <td>2022-01-01 1.0</td>\n      <td>2022-01-01 01:00:00</td>\n    </tr>\n    <tr>\n      <th>1</th>\n      <td>6009</td>\n      <td>2022-01-01</td>\n      <td>1.0</td>\n      <td>1</td>\n      <td>0</td>\n      <td>2</td>\n      <td>0</td>\n      <td>0</td>\n      <td>18</td>\n      <td>0</td>\n      <td>0.0</td>\n      <td>0.0</td>\n      <td>0.0</td>\n      <td>0.0</td>\n      <td>0.0</td>\n      <td>0.0</td>\n      <td>7</td>\n      <td>1</td>\n      <td>18.0</td>\n      <td>x</td>\n      <td>2022-01-01 1.0</td>\n      <td>2022-01-01 01:00:00</td>\n    </tr>\n    <tr>\n      <th>2</th>\n      <td>6009</td>\n      <td>2022-01-01</td>\n      <td>1.0</td>\n      <td>2</td>\n      <td>0</td>\n      <td>1</td>\n      <td>0</td>\n      <td>21</td>\n      <td>0</td>\n      <td>0</td>\n      <td>NaN</td>\n      <td>NaN</td>\n      <td>NaN</td>\n      <td>NaN</td>\n      <td>NaN</td>\n      <td>NaN</td>\n      <td>7</td>\n      <td>1</td>\n      <td>NaN</td>\n      <td>x</td>\n      <td>2022-01-01 1.0</td>\n      <td>2022-01-01 01:00:00</td>\n    </tr>\n    <tr>\n      <th>3</th>\n      <td>6009</td>\n      <td>2022-01-01</td>\n      <td>1.0</td>\n      <td>2</td>\n      <td>0</td>\n      <td>2</td>\n      <td>0</td>\n      <td>0</td>\n      <td>21</td>\n      <td>0</td>\n      <td>0.0</td>\n      <td>0.0</td>\n      <td>0.0</td>\n      <td>0.0</td>\n      <td>0.0</td>\n      <td>0.0</td>\n      <td>7</td>\n      <td>1</td>\n      <td>21.0</td>\n      <td>x</td>\n      <td>2022-01-01 1.0</td>\n      <td>2022-01-01 01:00:00</td>\n    </tr>\n    <tr>\n      <th>4</th>\n      <td>6009</td>\n      <td>2022-01-01</td>\n      <td>2.0</td>\n      <td>1</td>\n      <td>0</td>\n      <td>1</td>\n      <td>1</td>\n      <td>38</td>\n      <td>0</td>\n      <td>0</td>\n      <td>NaN</td>\n      <td>NaN</td>\n      <td>NaN</td>\n      <td>NaN</td>\n      <td>NaN</td>\n      <td>NaN</td>\n      <td>7</td>\n      <td>1</td>\n      <td>NaN</td>\n      <td>x</td>\n      <td>2022-01-01 2.0</td>\n      <td>2022-01-01 02:00:00</td>\n    </tr>\n    <tr>\n      <th>...</th>\n      <td>...</td>\n      <td>...</td>\n      <td>...</td>\n      <td>...</td>\n      <td>...</td>\n      <td>...</td>\n      <td>...</td>\n      <td>...</td>\n      <td>...</td>\n      <td>...</td>\n      <td>...</td>\n      <td>...</td>\n      <td>...</td>\n      <td>...</td>\n      <td>...</td>\n      <td>...</td>\n      <td>...</td>\n      <td>...</td>\n      <td>...</td>\n      <td>...</td>\n      <td>...</td>\n      <td>...</td>\n    </tr>\n    <tr>\n      <th>35031</th>\n      <td>6009</td>\n      <td>2022-12-31</td>\n      <td>23.0</td>\n      <td>2</td>\n      <td>0</td>\n      <td>2</td>\n      <td>0</td>\n      <td>1</td>\n      <td>26</td>\n      <td>0</td>\n      <td>0.0</td>\n      <td>0.0</td>\n      <td>0.0</td>\n      <td>0.0</td>\n      <td>0.0</td>\n      <td>0.0</td>\n      <td>7</td>\n      <td>12</td>\n      <td>27.0</td>\n      <td>x</td>\n      <td>2022-12-31 23.0</td>\n      <td>2022-12-31 23:00:00</td>\n    </tr>\n    <tr>\n      <th>35032</th>\n      <td>6009</td>\n      <td>2022-12-31</td>\n      <td>0.0</td>\n      <td>1</td>\n      <td>0</td>\n      <td>1</td>\n      <td>1</td>\n      <td>22</td>\n      <td>0</td>\n      <td>0</td>\n      <td>NaN</td>\n      <td>NaN</td>\n      <td>NaN</td>\n      <td>NaN</td>\n      <td>NaN</td>\n      <td>NaN</td>\n      <td>7</td>\n      <td>12</td>\n      <td>NaN</td>\n      <td>x</td>\n      <td>2022-12-31 0.0</td>\n      <td>2022-12-31 00:00:00</td>\n    </tr>\n    <tr>\n      <th>35033</th>\n      <td>6009</td>\n      <td>2022-12-31</td>\n      <td>0.0</td>\n      <td>1</td>\n      <td>0</td>\n      <td>2</td>\n      <td>0</td>\n      <td>1</td>\n      <td>22</td>\n      <td>0</td>\n      <td>0.0</td>\n      <td>0.0</td>\n      <td>0.0</td>\n      <td>0.0</td>\n      <td>0.0</td>\n      <td>0.0</td>\n      <td>7</td>\n      <td>12</td>\n      <td>23.0</td>\n      <td>x</td>\n      <td>2022-12-31 0.0</td>\n      <td>2022-12-31 00:00:00</td>\n    </tr>\n    <tr>\n      <th>35034</th>\n      <td>6009</td>\n      <td>2022-12-31</td>\n      <td>0.0</td>\n      <td>2</td>\n      <td>0</td>\n      <td>1</td>\n      <td>0</td>\n      <td>14</td>\n      <td>0</td>\n      <td>0</td>\n      <td>NaN</td>\n      <td>NaN</td>\n      <td>NaN</td>\n      <td>NaN</td>\n      <td>NaN</td>\n      <td>NaN</td>\n      <td>7</td>\n      <td>12</td>\n      <td>NaN</td>\n      <td>x</td>\n      <td>2022-12-31 0.0</td>\n      <td>2022-12-31 00:00:00</td>\n    </tr>\n    <tr>\n      <th>35035</th>\n      <td>6009</td>\n      <td>2022-12-31</td>\n      <td>0.0</td>\n      <td>2</td>\n      <td>0</td>\n      <td>2</td>\n      <td>0</td>\n      <td>0</td>\n      <td>14</td>\n      <td>0</td>\n      <td>0.0</td>\n      <td>0.0</td>\n      <td>0.0</td>\n      <td>0.0</td>\n      <td>0.0</td>\n      <td>0.0</td>\n      <td>7</td>\n      <td>12</td>\n      <td>14.0</td>\n      <td>x</td>\n      <td>2022-12-31 0.0</td>\n      <td>2022-12-31 00:00:00</td>\n    </tr>\n  </tbody>\n</table>\n<p>35036 rows × 22 columns</p>\n</div>"
     },
     "execution_count": 6,
     "metadata": {},
     "output_type": "execute_result"
    }
   ],
   "source": [
    "df1"
   ]
  },
  {
   "cell_type": "code",
   "execution_count": null,
   "metadata": {},
   "outputs": [],
   "source": []
  }
 ],
 "metadata": {
  "kernelspec": {
   "display_name": "Python 3",
   "language": "python",
   "name": "python3"
  },
  "language_info": {
   "codemirror_mode": {
    "name": "ipython",
    "version": 3
   },
   "file_extension": ".py",
   "mimetype": "text/x-python",
   "name": "python",
   "nbconvert_exporter": "python",
   "pygments_lexer": "ipython3",
   "version": "3.9.5"
  },
  "orig_nbformat": 4
 },
 "nbformat": 4,
 "nbformat_minor": 2
}
