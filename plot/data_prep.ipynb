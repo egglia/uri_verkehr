{
 "cells": [
  {
   "cell_type": "code",
   "execution_count": null,
   "metadata": {},
   "outputs": [],
   "source": [
    "import math\n",
    "import time\n",
    "import numpy as np\n",
    "import json\n",
    "import glob\n",
    "import warnings\n",
    "import requests\n",
    "\n",
    "import matplotlib.pyplot as plt\n",
    "import seaborn as sns\n",
    "\n",
    "import pandas as pd\n",
    "import geopandas as gpd\n",
    "pd.set_option('display.max_columns', None)\n",
    "\n",
    "\n",
    "import datetime\n",
    "\n",
    "df = pd.read_pickle('dfipynb.pickle')\n",
    "dftmp=df\n",
    "\n",
    "def anpassung_zeit(df):\n",
    "    df = df[df['Querschnitt'].notna()]\n",
    "    df = df[df['Datum'].notna()]\n",
    "    df.HHMM = df.HHMM / 100\n",
    "    df['HHMM']=df['HHMM'].replace(24.0,23.59)\n",
    "    df.head(100)\n",
    "    df['Datum und Zeit'] = df[\"Datum\"].astype(str).str[:10]+ ' ' +df.HHMM.astype(str)\n",
    "    df['Datumszeit'] = pd.to_datetime(df['Datum und Zeit'], format='%Y-%m-%d %H.%M', errors= \"coerce\")\n",
    "    return df\n",
    "df=anpassung_zeit(df)"
   ]
  },
  {
   "cell_type": "code",
   "execution_count": null,
   "metadata": {},
   "outputs": [],
   "source": [
    "import pandas as pd\n",
    "import pandasql as psql\n",
    "\n",
    "\n",
    "\n",
    "def addAggregationsForEachDay(df):\n",
    "    carsPerHour = \"SELECT Zst, Datumszeit, sum(Querschnitt) as anzahlZurStunde FROM df GROUP BY Zst, Datumszeit\"\n",
    "    df = psql.sqldf(carsPerHour)\n",
    "\n",
    "    zstMeasruesPerDay = \"SELECT Zst, cast(Datumszeit as date) as Datum, sum(anzahlZurStunde) as amountOnThisDay, sum(anzahlZurStunde)/24 as avgPerHourOnThisDay, min(anzahlZurStunde) as lowestAmountOnThisDay, max(anzahlZurStunde) as highestAmountOnThisDay \" \\\n",
    "                        \"FROM df \" \\\n",
    "                        \"GROUP BY Zst, Datum\"\n",
    "    df = psql.sqldf(zstMeasruesPerDay)\n",
    "    return df\n",
    "\n",
    "addAggregationsForEachDay(df)\n",
    "\n"
   ]
  },
  {
   "cell_type": "code",
   "execution_count": null,
   "metadata": {},
   "outputs": [],
   "source": [
    "temp = df.head(1000)\n",
    "sql1 =  \"SELECT Zst, Datumszeit, sum(Querschnitt) as anzahlZurStunde FROM temp GROUP BY Zst, Datumszeit\"\n",
    "temp = psql.sqldf(sql1)\n",
    "\n",
    "convertToDate= \"Select cast(Datumszeit as date) as Datum from temp\"\n",
    "psql.sql(convertToDate)\n",
    "\n",
    "sql2 = \"SELECT Zst, cast(Datumszeit as date) as Datum, sum(anzahlZurStunde) as amountOnThisDay, sum(anzahlZurStunde)/24 as avgPerHourOnThisDay, min(anzahlZurStunde) as lowestAmountOnThisDay, max(anzahlZurStunde) as highestAmountOnThisDay \" \\\n",
    "                        \"FROM temp \" \\\n",
    "                        \"GROUP BY Zst, cast(Datumszeit as date)\"\n",
    "\n",
    "temp = psql.sqldf(sql2)"
   ]
  },
  {
   "cell_type": "code",
   "execution_count": null,
   "metadata": {},
   "outputs": [],
   "source": [
    "temp = df.head(1000)\n",
    "temp = psql.sqldf(sql1)\n",
    "temp\n",
    "\n"
   ]
  },
  {
   "cell_type": "code",
   "execution_count": null,
   "metadata": {},
   "outputs": [],
   "source": [
    "import plotly.express as px\n",
    "fig = px.line(df, y='Querschnitt',x=\"Datumszeit\", hover_data=[\"Datumszeit\"], color=\"Zst\")\n",
    "fig.update_xaxes(\n",
    "    dtick=\"M1\",\n",
    "    tickformat=\"%b\\n%Y\")\n",
    "fig.show()"
   ]
  }
 ],
 "metadata": {
  "language_info": {
   "name": "python"
  },
  "orig_nbformat": 4
 },
 "nbformat": 4,
 "nbformat_minor": 2
}
