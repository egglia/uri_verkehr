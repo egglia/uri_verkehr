{
 "cells": [
  {
   "cell_type": "code",
   "execution_count": null,
   "metadata": {
    "collapsed": true
   },
   "outputs": [],
   "source": []
  },
  {
   "cell_type": "code",
   "execution_count": 2,
   "outputs": [
    {
     "name": "stdout",
     "output_type": "stream",
     "text": [
      "file:../data/DatenSisag/Verkehrsdaten/Rohdaten Auswertungfiles xls/all/6002_2022.xlsx\n",
      "file:../data/DatenSisag/Verkehrsdaten/Rohdaten Auswertungfiles xls/all/5401_2022.xlsx\n",
      "file:../data/DatenSisag/Verkehrsdaten/Rohdaten Auswertungfiles xls/all/6004 2020.xlsx\n",
      "file:../data/DatenSisag/Verkehrsdaten/Rohdaten Auswertungfiles xls/all/6004_2022.xlsx\n",
      "file:../data/DatenSisag/Verkehrsdaten/Rohdaten Auswertungfiles xls/all/6009_2022.xlsx\n"
     ]
    }
   ],
   "source": [
    "# import required module\n",
    "import os\n",
    "import pandas as pd\n",
    "\n",
    "# assign directory\n",
    "directory = '../data/DatenSisag/Verkehrsdaten/Rohdaten Auswertungfiles xls/all/'\n",
    "dflist = {}\n",
    "messstelle = \"\"\n",
    "con = None\n",
    "\n",
    "#filenames = [file for file in os.listdir(directory) if file.endswith('.xlsx')]\n",
    "\n",
    "#df = pd.concat([pd.read_excel(directory + file) for file in filenames], ignore_index=True)\n",
    "#df.to_excel(\"merge.xlsx\")\n",
    "\n",
    "# iterate over files in\n",
    "# that directory\n",
    "filenames = []\n",
    "for filename in os.listdir(directory):\n",
    "    f = os.path.join(directory, filename)\n",
    "    # checking if it is a file\n",
    "    #if os.path.isfile(f):\n",
    "    filenames.append(f)\n",
    "#df = pd.concat([pd.read_excel(directory + file) for file in filenames], ignore_index=True)\n",
    "\n",
    "import time\n",
    "from joblib import Parallel, delayed\n",
    "def loop(file):\n",
    "    dfxlsx = pd.read_excel(file)\n",
    "    print(\"file:\"+file)\n",
    "    return dfxlsx\n",
    "\n",
    "\n",
    "df = Parallel(n_jobs=12, verbose=0, prefer=\"threads\")(delayed(loop)(file) for file in filenames[:5])\n",
    "df = pd.concat(df, ignore_index=True)\n",
    "df.to_pickle(\"dfipynb.pickle\")\n",
    "\n",
    "#df.to_excel(\"merge.xlsb\")\n",
    "\n",
    "#print(len(dflist[messstelle]))"
   ],
   "metadata": {
    "collapsed": false
   }
  },
  {
   "cell_type": "code",
   "execution_count": 10,
   "outputs": [],
   "source": [
    "df_restore = pd.read_pickle(\"df.pickle\")"
   ],
   "metadata": {
    "collapsed": false
   }
  }
 ],
 "metadata": {
  "kernelspec": {
   "display_name": "Python 3",
   "language": "python",
   "name": "python3"
  },
  "language_info": {
   "codemirror_mode": {
    "name": "ipython",
    "version": 2
   },
   "file_extension": ".py",
   "mimetype": "text/x-python",
   "name": "python",
   "nbconvert_exporter": "python",
   "pygments_lexer": "ipython2",
   "version": "2.7.6"
  }
 },
 "nbformat": 4,
 "nbformat_minor": 0
}
